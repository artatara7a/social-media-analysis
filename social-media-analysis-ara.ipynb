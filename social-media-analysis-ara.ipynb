{
 "cells": [
  {
   "cell_type": "code",
   "execution_count": 1,
   "metadata": {},
   "outputs": [],
   "source": [
    "import pandas as pd\n",
    "from dateutil import parser\n",
    "import duckdb as db\n",
    "import plotly.express as px\n",
    "import matplotlib.pyplot as plt\n",
    "import seaborn as sns\n",
    "from dash import Dash, dcc, html, Input, Output"
   ]
  },
  {
   "cell_type": "code",
   "execution_count": 2,
   "metadata": {},
   "outputs": [
    {
     "name": "stdout",
     "output_type": "stream",
     "text": [
      "<class 'pandas.core.frame.DataFrame'>\n",
      "RangeIndex: 3000 entries, 0 to 2999\n",
      "Data columns (total 8 columns):\n",
      " #   Column     Non-Null Count  Dtype \n",
      "---  ------     --------------  ----- \n",
      " 0   id         3000 non-null   int64 \n",
      " 1   platform   3000 non-null   object\n",
      " 2   username   3000 non-null   object\n",
      " 3   post_date  3000 non-null   object\n",
      " 4   content    3000 non-null   object\n",
      " 5   likes      3000 non-null   int64 \n",
      " 6   comments   3000 non-null   int64 \n",
      " 7   shares     3000 non-null   int64 \n",
      "dtypes: int64(4), object(4)\n",
      "memory usage: 187.6+ KB\n"
     ]
    }
   ],
   "source": [
    "data = pd.read_csv('sample_social_media_data.csv')\n",
    "data.info()"
   ]
  },
  {
   "cell_type": "code",
   "execution_count": 3,
   "metadata": {},
   "outputs": [
    {
     "name": "stdout",
     "output_type": "stream",
     "text": [
      "<class 'pandas.core.frame.DataFrame'>\n",
      "RangeIndex: 3000 entries, 0 to 2999\n",
      "Data columns (total 8 columns):\n",
      " #   Column     Non-Null Count  Dtype         \n",
      "---  ------     --------------  -----         \n",
      " 0   id         3000 non-null   int64         \n",
      " 1   platform   3000 non-null   object        \n",
      " 2   username   3000 non-null   object        \n",
      " 3   post_date  3000 non-null   datetime64[ns]\n",
      " 4   content    3000 non-null   object        \n",
      " 5   likes      3000 non-null   int64         \n",
      " 6   comments   3000 non-null   int64         \n",
      " 7   shares     3000 non-null   int64         \n",
      "dtypes: datetime64[ns](1), int64(4), object(3)\n",
      "memory usage: 187.6+ KB\n"
     ]
    }
   ],
   "source": [
    "data[\"post_date\"] = data[\"post_date\"].map(parser.parse)\n",
    "data.info()"
   ]
  },
  {
   "cell_type": "code",
   "execution_count": 4,
   "metadata": {},
   "outputs": [
    {
     "data": {
      "text/html": [
       "<div>\n",
       "<style scoped>\n",
       "    .dataframe tbody tr th:only-of-type {\n",
       "        vertical-align: middle;\n",
       "    }\n",
       "\n",
       "    .dataframe tbody tr th {\n",
       "        vertical-align: top;\n",
       "    }\n",
       "\n",
       "    .dataframe thead th {\n",
       "        text-align: right;\n",
       "    }\n",
       "</style>\n",
       "<table border=\"1\" class=\"dataframe\">\n",
       "  <thead>\n",
       "    <tr style=\"text-align: right;\">\n",
       "      <th></th>\n",
       "      <th>id</th>\n",
       "      <th>platform</th>\n",
       "      <th>username</th>\n",
       "      <th>post_date</th>\n",
       "      <th>content</th>\n",
       "      <th>likes</th>\n",
       "      <th>comments</th>\n",
       "      <th>shares</th>\n",
       "    </tr>\n",
       "  </thead>\n",
       "  <tbody>\n",
       "    <tr>\n",
       "      <th>0</th>\n",
       "      <td>1</td>\n",
       "      <td>Twitter</td>\n",
       "      <td>fosterkayla</td>\n",
       "      <td>2023-10-10 07:45:03</td>\n",
       "      <td>Scene six education society.</td>\n",
       "      <td>17</td>\n",
       "      <td>15</td>\n",
       "      <td>14</td>\n",
       "    </tr>\n",
       "    <tr>\n",
       "      <th>1</th>\n",
       "      <td>2</td>\n",
       "      <td>Facebook</td>\n",
       "      <td>xnorris</td>\n",
       "      <td>2023-10-25 07:45:03</td>\n",
       "      <td>Practice people than help tend likely.</td>\n",
       "      <td>177</td>\n",
       "      <td>4</td>\n",
       "      <td>29</td>\n",
       "    </tr>\n",
       "    <tr>\n",
       "      <th>2</th>\n",
       "      <td>3</td>\n",
       "      <td>Facebook</td>\n",
       "      <td>michelleking</td>\n",
       "      <td>2023-03-25 03:45:03</td>\n",
       "      <td>Daughter yes word risk shoulder evening nation.</td>\n",
       "      <td>279</td>\n",
       "      <td>39</td>\n",
       "      <td>24</td>\n",
       "    </tr>\n",
       "    <tr>\n",
       "      <th>3</th>\n",
       "      <td>4</td>\n",
       "      <td>Instagram</td>\n",
       "      <td>penaveronica</td>\n",
       "      <td>2022-12-10 17:45:03</td>\n",
       "      <td>All prove lot bit teacher election speak.</td>\n",
       "      <td>45</td>\n",
       "      <td>18</td>\n",
       "      <td>13</td>\n",
       "    </tr>\n",
       "    <tr>\n",
       "      <th>4</th>\n",
       "      <td>5</td>\n",
       "      <td>Instagram</td>\n",
       "      <td>smithmeghan</td>\n",
       "      <td>2022-12-10 01:45:03</td>\n",
       "      <td>Those lawyer each sit sure organization stop.</td>\n",
       "      <td>12</td>\n",
       "      <td>6</td>\n",
       "      <td>9</td>\n",
       "    </tr>\n",
       "    <tr>\n",
       "      <th>...</th>\n",
       "      <td>...</td>\n",
       "      <td>...</td>\n",
       "      <td>...</td>\n",
       "      <td>...</td>\n",
       "      <td>...</td>\n",
       "      <td>...</td>\n",
       "      <td>...</td>\n",
       "      <td>...</td>\n",
       "    </tr>\n",
       "    <tr>\n",
       "      <th>2995</th>\n",
       "      <td>2996</td>\n",
       "      <td>Twitter</td>\n",
       "      <td>walkerthomas</td>\n",
       "      <td>2023-10-31 05:45:03</td>\n",
       "      <td>Argue fall from degree.</td>\n",
       "      <td>82</td>\n",
       "      <td>38</td>\n",
       "      <td>20</td>\n",
       "    </tr>\n",
       "    <tr>\n",
       "      <th>2996</th>\n",
       "      <td>2997</td>\n",
       "      <td>Facebook</td>\n",
       "      <td>shieldsnicholas</td>\n",
       "      <td>2023-09-01 23:45:03</td>\n",
       "      <td>Bank effort return glass number foot.</td>\n",
       "      <td>245</td>\n",
       "      <td>14</td>\n",
       "      <td>19</td>\n",
       "    </tr>\n",
       "    <tr>\n",
       "      <th>2997</th>\n",
       "      <td>2998</td>\n",
       "      <td>Twitter</td>\n",
       "      <td>christinasaunders</td>\n",
       "      <td>2023-09-04 00:45:03</td>\n",
       "      <td>Lead a with physical south arm crime.</td>\n",
       "      <td>146</td>\n",
       "      <td>38</td>\n",
       "      <td>23</td>\n",
       "    </tr>\n",
       "    <tr>\n",
       "      <th>2998</th>\n",
       "      <td>2999</td>\n",
       "      <td>Instagram</td>\n",
       "      <td>destinyharris</td>\n",
       "      <td>2023-11-08 19:45:03</td>\n",
       "      <td>Consumer especially support decision quality c...</td>\n",
       "      <td>150</td>\n",
       "      <td>6</td>\n",
       "      <td>5</td>\n",
       "    </tr>\n",
       "    <tr>\n",
       "      <th>2999</th>\n",
       "      <td>3000</td>\n",
       "      <td>Facebook</td>\n",
       "      <td>jeremyjohnson</td>\n",
       "      <td>2023-07-29 19:45:03</td>\n",
       "      <td>Major happy enjoy foot together power.</td>\n",
       "      <td>29</td>\n",
       "      <td>12</td>\n",
       "      <td>3</td>\n",
       "    </tr>\n",
       "  </tbody>\n",
       "</table>\n",
       "<p>3000 rows × 8 columns</p>\n",
       "</div>"
      ],
      "text/plain": [
       "        id   platform           username           post_date  \\\n",
       "0        1    Twitter        fosterkayla 2023-10-10 07:45:03   \n",
       "1        2   Facebook            xnorris 2023-10-25 07:45:03   \n",
       "2        3   Facebook       michelleking 2023-03-25 03:45:03   \n",
       "3        4  Instagram       penaveronica 2022-12-10 17:45:03   \n",
       "4        5  Instagram        smithmeghan 2022-12-10 01:45:03   \n",
       "...    ...        ...                ...                 ...   \n",
       "2995  2996    Twitter       walkerthomas 2023-10-31 05:45:03   \n",
       "2996  2997   Facebook    shieldsnicholas 2023-09-01 23:45:03   \n",
       "2997  2998    Twitter  christinasaunders 2023-09-04 00:45:03   \n",
       "2998  2999  Instagram      destinyharris 2023-11-08 19:45:03   \n",
       "2999  3000   Facebook      jeremyjohnson 2023-07-29 19:45:03   \n",
       "\n",
       "                                                content  likes  comments  \\\n",
       "0                          Scene six education society.     17        15   \n",
       "1                Practice people than help tend likely.    177         4   \n",
       "2       Daughter yes word risk shoulder evening nation.    279        39   \n",
       "3             All prove lot bit teacher election speak.     45        18   \n",
       "4         Those lawyer each sit sure organization stop.     12         6   \n",
       "...                                                 ...    ...       ...   \n",
       "2995                            Argue fall from degree.     82        38   \n",
       "2996              Bank effort return glass number foot.    245        14   \n",
       "2997              Lead a with physical south arm crime.    146        38   \n",
       "2998  Consumer especially support decision quality c...    150         6   \n",
       "2999             Major happy enjoy foot together power.     29        12   \n",
       "\n",
       "      shares  \n",
       "0         14  \n",
       "1         29  \n",
       "2         24  \n",
       "3         13  \n",
       "4          9  \n",
       "...      ...  \n",
       "2995      20  \n",
       "2996      19  \n",
       "2997      23  \n",
       "2998       5  \n",
       "2999       3  \n",
       "\n",
       "[3000 rows x 8 columns]"
      ]
     },
     "execution_count": 4,
     "metadata": {},
     "output_type": "execute_result"
    }
   ],
   "source": [
    "data"
   ]
  },
  {
   "cell_type": "code",
   "execution_count": 5,
   "metadata": {},
   "outputs": [
    {
     "data": {
      "image/png": "[encoded data removed]",
      "text/plain": [
       "<Figure size 800x600 with 1 Axes>"
      ]
     },
     "metadata": {},
     "output_type": "display_data"
    }
   ],
   "source": [
    "values = data['platform'].value_counts().values\n",
    "index = data['platform'].value_counts().index\n",
    "colors = plt.cm.tab20.colors[:len(values)]\n",
    "\n",
    "plt.figure(figsize=(8, 6))\n",
    "plt.pie(values, labels=None, autopct='%1.1f%%', startangle=140, colors=colors)\n",
    "plt.title('Distribusi Penggunaan Platform Media Sosial')\n",
    "dummy_handles = [plt.Line2D([0], [0], marker='o', color='w', markersize=10, \n",
    "                             markerfacecolor=color) for color in colors]\n",
    "plt.legend(dummy_handles, index, title='Platform', loc='center', ncol=3)\n",
    "plt.show()"
   ]
  },
  {
   "cell_type": "code",
   "execution_count": 6,
   "metadata": {},
   "outputs": [],
   "source": [
    "def query(sql_query:str) -> pd.DataFrame:\n",
    "    return db.sql(sql_query).df()"
   ]
  },
  {
   "cell_type": "markdown",
   "metadata": {},
   "source": [
    "Perkembangan User Tertentu di Beberapa Bulan Terakhir"
   ]
  },
  {
   "cell_type": "code",
   "execution_count": 7,
   "metadata": {},
   "outputs": [
    {
     "data": {
      "text/html": [
       "<div>\n",
       "<style scoped>\n",
       "    .dataframe tbody tr th:only-of-type {\n",
       "        vertical-align: middle;\n",
       "    }\n",
       "\n",
       "    .dataframe tbody tr th {\n",
       "        vertical-align: top;\n",
       "    }\n",
       "\n",
       "    .dataframe thead th {\n",
       "        text-align: right;\n",
       "    }\n",
       "</style>\n",
       "<table border=\"1\" class=\"dataframe\">\n",
       "  <thead>\n",
       "    <tr style=\"text-align: right;\">\n",
       "      <th></th>\n",
       "      <th>id</th>\n",
       "      <th>platform</th>\n",
       "      <th>username</th>\n",
       "      <th>post_date</th>\n",
       "      <th>content</th>\n",
       "      <th>likes</th>\n",
       "      <th>comments</th>\n",
       "      <th>shares</th>\n",
       "    </tr>\n",
       "  </thead>\n",
       "  <tbody>\n",
       "    <tr>\n",
       "      <th>0</th>\n",
       "      <td>328</td>\n",
       "      <td>Twitter</td>\n",
       "      <td>nealtom</td>\n",
       "      <td>2023-06-04 16:45:03</td>\n",
       "      <td>Approach charge raise or.</td>\n",
       "      <td>157</td>\n",
       "      <td>5</td>\n",
       "      <td>27</td>\n",
       "    </tr>\n",
       "    <tr>\n",
       "      <th>1</th>\n",
       "      <td>738</td>\n",
       "      <td>Facebook</td>\n",
       "      <td>michelemiller</td>\n",
       "      <td>2023-06-04 10:45:03</td>\n",
       "      <td>Prove second prepare thus fire pattern news.</td>\n",
       "      <td>278</td>\n",
       "      <td>2</td>\n",
       "      <td>2</td>\n",
       "    </tr>\n",
       "    <tr>\n",
       "      <th>2</th>\n",
       "      <td>767</td>\n",
       "      <td>Twitter</td>\n",
       "      <td>schmittlindsay</td>\n",
       "      <td>2023-06-04 12:45:03</td>\n",
       "      <td>Why address with culture rather stay.</td>\n",
       "      <td>127</td>\n",
       "      <td>40</td>\n",
       "      <td>24</td>\n",
       "    </tr>\n",
       "    <tr>\n",
       "      <th>3</th>\n",
       "      <td>1233</td>\n",
       "      <td>Twitter</td>\n",
       "      <td>jholmes</td>\n",
       "      <td>2023-06-04 20:45:03</td>\n",
       "      <td>Small answer run despite age yes media.</td>\n",
       "      <td>183</td>\n",
       "      <td>32</td>\n",
       "      <td>17</td>\n",
       "    </tr>\n",
       "    <tr>\n",
       "      <th>4</th>\n",
       "      <td>1444</td>\n",
       "      <td>Twitter</td>\n",
       "      <td>nsmith</td>\n",
       "      <td>2023-06-04 09:45:03</td>\n",
       "      <td>Capital school road under report.</td>\n",
       "      <td>193</td>\n",
       "      <td>1</td>\n",
       "      <td>4</td>\n",
       "    </tr>\n",
       "    <tr>\n",
       "      <th>...</th>\n",
       "      <td>...</td>\n",
       "      <td>...</td>\n",
       "      <td>...</td>\n",
       "      <td>...</td>\n",
       "      <td>...</td>\n",
       "      <td>...</td>\n",
       "      <td>...</td>\n",
       "      <td>...</td>\n",
       "    </tr>\n",
       "    <tr>\n",
       "      <th>1511</th>\n",
       "      <td>2879</td>\n",
       "      <td>Facebook</td>\n",
       "      <td>hesskevin</td>\n",
       "      <td>2023-12-02 00:45:03</td>\n",
       "      <td>Expert indeed turn lose benefit member.</td>\n",
       "      <td>224</td>\n",
       "      <td>8</td>\n",
       "      <td>11</td>\n",
       "    </tr>\n",
       "    <tr>\n",
       "      <th>1512</th>\n",
       "      <td>45</td>\n",
       "      <td>Instagram</td>\n",
       "      <td>ioneill</td>\n",
       "      <td>2023-12-03 00:45:03</td>\n",
       "      <td>Determine sort huge fly throw measure both.</td>\n",
       "      <td>202</td>\n",
       "      <td>40</td>\n",
       "      <td>17</td>\n",
       "    </tr>\n",
       "    <tr>\n",
       "      <th>1513</th>\n",
       "      <td>516</td>\n",
       "      <td>Twitter</td>\n",
       "      <td>zreid</td>\n",
       "      <td>2023-12-03 13:45:03</td>\n",
       "      <td>Smile they example growth.</td>\n",
       "      <td>292</td>\n",
       "      <td>11</td>\n",
       "      <td>13</td>\n",
       "    </tr>\n",
       "    <tr>\n",
       "      <th>1514</th>\n",
       "      <td>1775</td>\n",
       "      <td>Instagram</td>\n",
       "      <td>mossalexa</td>\n",
       "      <td>2023-12-03 12:45:03</td>\n",
       "      <td>War more government technology against fill.</td>\n",
       "      <td>232</td>\n",
       "      <td>30</td>\n",
       "      <td>6</td>\n",
       "    </tr>\n",
       "    <tr>\n",
       "      <th>1515</th>\n",
       "      <td>2648</td>\n",
       "      <td>Instagram</td>\n",
       "      <td>dwade</td>\n",
       "      <td>2023-12-03 08:45:03</td>\n",
       "      <td>Form most answer rich benefit trade protect.</td>\n",
       "      <td>66</td>\n",
       "      <td>45</td>\n",
       "      <td>13</td>\n",
       "    </tr>\n",
       "  </tbody>\n",
       "</table>\n",
       "<p>1516 rows × 8 columns</p>\n",
       "</div>"
      ],
      "text/plain": [
       "        id   platform        username           post_date  \\\n",
       "0      328    Twitter         nealtom 2023-06-04 16:45:03   \n",
       "1      738   Facebook   michelemiller 2023-06-04 10:45:03   \n",
       "2      767    Twitter  schmittlindsay 2023-06-04 12:45:03   \n",
       "3     1233    Twitter         jholmes 2023-06-04 20:45:03   \n",
       "4     1444    Twitter          nsmith 2023-06-04 09:45:03   \n",
       "...    ...        ...             ...                 ...   \n",
       "1511  2879   Facebook       hesskevin 2023-12-02 00:45:03   \n",
       "1512    45  Instagram         ioneill 2023-12-03 00:45:03   \n",
       "1513   516    Twitter           zreid 2023-12-03 13:45:03   \n",
       "1514  1775  Instagram       mossalexa 2023-12-03 12:45:03   \n",
       "1515  2648  Instagram           dwade 2023-12-03 08:45:03   \n",
       "\n",
       "                                           content  likes  comments  shares  \n",
       "0                        Approach charge raise or.    157         5      27  \n",
       "1     Prove second prepare thus fire pattern news.    278         2       2  \n",
       "2            Why address with culture rather stay.    127        40      24  \n",
       "3          Small answer run despite age yes media.    183        32      17  \n",
       "4                Capital school road under report.    193         1       4  \n",
       "...                                            ...    ...       ...     ...  \n",
       "1511       Expert indeed turn lose benefit member.    224         8      11  \n",
       "1512   Determine sort huge fly throw measure both.    202        40      17  \n",
       "1513                    Smile they example growth.    292        11      13  \n",
       "1514  War more government technology against fill.    232        30       6  \n",
       "1515  Form most answer rich benefit trade protect.     66        45      13  \n",
       "\n",
       "[1516 rows x 8 columns]"
      ]
     },
     "execution_count": 7,
     "metadata": {},
     "output_type": "execute_result"
    }
   ],
   "source": [
    "#get data 6 bulan terakhir\n",
    "a = query('''SELECT * FROM data\n",
    "        WHERE post_date >= ( \n",
    "            SELECT MAX(post_date) - INTERVAL '6 months'\n",
    "            FROM data )\n",
    "        ORDER BY MONTH(post_date), DAY(post_date)''')\n",
    "a"
   ]
  },
  {
   "cell_type": "code",
   "execution_count": 8,
   "metadata": {},
   "outputs": [
    {
     "data": {
      "text/plain": [
       "platform   username      \n",
       "Facebook   kingjose          2\n",
       "Twitter    williamsdaniel    2\n",
       "           michael62         2\n",
       "Instagram  youngvanessa      1\n",
       "           zsmith            1\n",
       "                            ..\n",
       "           adavenport        1\n",
       "           adamturner        1\n",
       "           adamsdanielle     1\n",
       "           adamgreen         1\n",
       "Twitter    ztaylor           1\n",
       "Name: count, Length: 1513, dtype: int64"
      ]
     },
     "execution_count": 8,
     "metadata": {},
     "output_type": "execute_result"
    }
   ],
   "source": [
    "#cek duplikat user\n",
    "a[['platform', 'username']].value_counts()"
   ]
  },
  {
   "cell_type": "code",
   "execution_count": 9,
   "metadata": {},
   "outputs": [
    {
     "data": {
      "text/html": [
       "<div>\n",
       "<style scoped>\n",
       "    .dataframe tbody tr th:only-of-type {\n",
       "        vertical-align: middle;\n",
       "    }\n",
       "\n",
       "    .dataframe tbody tr th {\n",
       "        vertical-align: top;\n",
       "    }\n",
       "\n",
       "    .dataframe thead th {\n",
       "        text-align: right;\n",
       "    }\n",
       "</style>\n",
       "<table border=\"1\" class=\"dataframe\">\n",
       "  <thead>\n",
       "    <tr style=\"text-align: right;\">\n",
       "      <th></th>\n",
       "      <th>id</th>\n",
       "      <th>platform</th>\n",
       "      <th>username</th>\n",
       "      <th>post_date</th>\n",
       "      <th>content</th>\n",
       "      <th>likes</th>\n",
       "      <th>comments</th>\n",
       "      <th>shares</th>\n",
       "    </tr>\n",
       "  </thead>\n",
       "  <tbody>\n",
       "    <tr>\n",
       "      <th>0</th>\n",
       "      <td>2143</td>\n",
       "      <td>Facebook</td>\n",
       "      <td>kingjose</td>\n",
       "      <td>2023-06-09 01:45:03</td>\n",
       "      <td>Outside meet name force economy center my radio.</td>\n",
       "      <td>154</td>\n",
       "      <td>15</td>\n",
       "      <td>21</td>\n",
       "    </tr>\n",
       "    <tr>\n",
       "      <th>1</th>\n",
       "      <td>401</td>\n",
       "      <td>Facebook</td>\n",
       "      <td>kingjose</td>\n",
       "      <td>2023-07-23 08:45:03</td>\n",
       "      <td>Believe she PM reveal up reality.</td>\n",
       "      <td>195</td>\n",
       "      <td>47</td>\n",
       "      <td>16</td>\n",
       "    </tr>\n",
       "    <tr>\n",
       "      <th>2</th>\n",
       "      <td>2521</td>\n",
       "      <td>Twitter</td>\n",
       "      <td>michael62</td>\n",
       "      <td>2023-07-31 15:45:03</td>\n",
       "      <td>Set theory serious network talk.</td>\n",
       "      <td>172</td>\n",
       "      <td>39</td>\n",
       "      <td>6</td>\n",
       "    </tr>\n",
       "    <tr>\n",
       "      <th>3</th>\n",
       "      <td>2432</td>\n",
       "      <td>Twitter</td>\n",
       "      <td>michael62</td>\n",
       "      <td>2023-09-14 09:45:03</td>\n",
       "      <td>Those entire you while understand specific.</td>\n",
       "      <td>150</td>\n",
       "      <td>18</td>\n",
       "      <td>24</td>\n",
       "    </tr>\n",
       "    <tr>\n",
       "      <th>4</th>\n",
       "      <td>9</td>\n",
       "      <td>Twitter</td>\n",
       "      <td>williamsdaniel</td>\n",
       "      <td>2023-09-10 02:45:03</td>\n",
       "      <td>If entire pay there government effect.</td>\n",
       "      <td>277</td>\n",
       "      <td>49</td>\n",
       "      <td>12</td>\n",
       "    </tr>\n",
       "    <tr>\n",
       "      <th>5</th>\n",
       "      <td>941</td>\n",
       "      <td>Twitter</td>\n",
       "      <td>williamsdaniel</td>\n",
       "      <td>2023-10-14 16:45:03</td>\n",
       "      <td>Suddenly who cause face high.</td>\n",
       "      <td>17</td>\n",
       "      <td>47</td>\n",
       "      <td>29</td>\n",
       "    </tr>\n",
       "  </tbody>\n",
       "</table>\n",
       "</div>"
      ],
      "text/plain": [
       "     id  platform        username           post_date  \\\n",
       "0  2143  Facebook        kingjose 2023-06-09 01:45:03   \n",
       "1   401  Facebook        kingjose 2023-07-23 08:45:03   \n",
       "2  2521   Twitter       michael62 2023-07-31 15:45:03   \n",
       "3  2432   Twitter       michael62 2023-09-14 09:45:03   \n",
       "4     9   Twitter  williamsdaniel 2023-09-10 02:45:03   \n",
       "5   941   Twitter  williamsdaniel 2023-10-14 16:45:03   \n",
       "\n",
       "                                            content  likes  comments  shares  \n",
       "0  Outside meet name force economy center my radio.    154        15      21  \n",
       "1                 Believe she PM reveal up reality.    195        47      16  \n",
       "2                  Set theory serious network talk.    172        39       6  \n",
       "3       Those entire you while understand specific.    150        18      24  \n",
       "4            If entire pay there government effect.    277        49      12  \n",
       "5                     Suddenly who cause face high.     17        47      29  "
      ]
     },
     "execution_count": 9,
     "metadata": {},
     "output_type": "execute_result"
    }
   ],
   "source": [
    "#get data user yang melakukan post >1\n",
    "b = query(\"\"\"SELECT *\n",
    "        FROM a\n",
    "        WHERE username IN (\n",
    "            SELECT username,\n",
    "            FROM a\n",
    "            GROUP BY username, platform\n",
    "            HAVING COUNT(username) > 1)\n",
    "        ORDER BY username, platform\"\"\")\n",
    "b        "
   ]
  },
  {
   "cell_type": "code",
   "execution_count": 10,
   "metadata": {},
   "outputs": [
    {
     "data": {
      "application/vnd.plotly.v1+json": {
       "config": {
        "plotlyServerURL": "https://plot.ly"
       },
       "data": [
        {
         "alignmentgroup": "True",
         "customdata": [
          "Likes",
          "Likes",
          "Comments",
          "Comments",
          "Shares",
          "Shares"
         ],
         "hovertemplate": "<br><b>User:</b> %{fullData.name}<br><b>Total:</b> %{hovertext}<br><b>Type:</b> %{customdata}<br><b>Count:</b> %{y}",
         "hovertext": [
          190,
          258,
          190,
          258,
          190,
          258
         ],
         "legendgroup": "kingjose",
         "marker": {
          "color": "#636efa",
          "pattern": {
           "shape": ""
          }
         },
         "name": "kingjose",
         "offsetgroup": "kingjose",
         "orientation": "v",
         "showlegend": true,
         "textposition": "auto",
         "type": "bar",
         "x": [
          "2023-06-09, Facebook",
          "2023-07-23, Facebook",
          "2023-06-09, Facebook",
          "2023-07-23, Facebook",
          "2023-06-09, Facebook",
          "2023-07-23, Facebook"
         ],
         "xaxis": "x",
         "y": [
          154,
          195,
          15,
          47,
          21,
          16
         ],
         "yaxis": "y"
        },
        {
         "alignmentgroup": "True",
         "customdata": [
          "Likes",
          "Likes",
          "Comments",
          "Comments",
          "Shares",
          "Shares"
         ],
         "hovertemplate": "<br><b>User:</b> %{fullData.name}<br><b>Total:</b> %{hovertext}<br><b>Type:</b> %{customdata}<br><b>Count:</b> %{y}",
         "hovertext": [
          217,
          192,
          217,
          192,
          217,
          192
         ],
         "legendgroup": "michael62",
         "marker": {
          "color": "#EF553B",
          "pattern": {
           "shape": ""
          }
         },
         "name": "michael62",
         "offsetgroup": "michael62",
         "orientation": "v",
         "showlegend": true,
         "textposition": "auto",
         "type": "bar",
         "x": [
          "2023-07-31, Twitter",
          "2023-09-14, Twitter",
          "2023-07-31, Twitter",
          "2023-09-14, Twitter",
          "2023-07-31, Twitter",
          "2023-09-14, Twitter"
         ],
         "xaxis": "x",
         "y": [
          172,
          150,
          39,
          18,
          6,
          24
         ],
         "yaxis": "y"
        },
        {
         "alignmentgroup": "True",
         "customdata": [
          "Likes",
          "Likes",
          "Comments",
          "Comments",
          "Shares",
          "Shares"
         ],
         "hovertemplate": "<br><b>User:</b> %{fullData.name}<br><b>Total:</b> %{hovertext}<br><b>Type:</b> %{customdata}<br><b>Count:</b> %{y}",
         "hovertext": [
          338,
          93,
          338,
          93,
          338,
          93
         ],
         "legendgroup": "williamsdaniel",
         "marker": {
          "color": "#00cc96",
          "pattern": {
           "shape": ""
          }
         },
         "name": "williamsdaniel",
         "offsetgroup": "williamsdaniel",
         "orientation": "v",
         "showlegend": true,
         "textposition": "auto",
         "type": "bar",
         "x": [
          "2023-09-10, Twitter",
          "2023-10-14, Twitter",
          "2023-09-10, Twitter",
          "2023-10-14, Twitter",
          "2023-09-10, Twitter",
          "2023-10-14, Twitter"
         ],
         "xaxis": "x",
         "y": [
          277,
          17,
          49,
          47,
          12,
          29
         ],
         "yaxis": "y"
        }
       ],
       "layout": {
        "barmode": "stack",
        "legend": {
         "title": {
          "text": "User"
         },
         "tracegroupgap": 0
        },
        "template": {
         "data": {
          "bar": [
           {
            "error_x": {
             "color": "#2a3f5f"
            },
            "error_y": {
             "color": "#2a3f5f"
            },
            "marker": {
             "line": {
              "color": "#E5ECF6",
              "width": 0.5
             },
             "pattern": {
              "fillmode": "overlay",
              "size": 10,
              "solidity": 0.2
             }
            },
            "type": "bar"
           }
          ],
          "barpolar": [
           {
            "marker": {
             "line": {
              "color": "#E5ECF6",
              "width": 0.5
             },
             "pattern": {
              "fillmode": "overlay",
              "size": 10,
              "solidity": 0.2
             }
            },
            "type": "barpolar"
           }
          ],
          "carpet": [
           {
            "aaxis": {
             "endlinecolor": "#2a3f5f",
             "gridcolor": "white",
             "linecolor": "white",
             "minorgridcolor": "white",
             "startlinecolor": "#2a3f5f"
            },
            "baxis": {
             "endlinecolor": "#2a3f5f",
             "gridcolor": "white",
             "linecolor": "white",
             "minorgridcolor": "white",
             "startlinecolor": "#2a3f5f"
            },
            "type": "carpet"
           }
          ],
          "choropleth": [
           {
            "colorbar": {
             "outlinewidth": 0,
             "ticks": ""
            },
            "type": "choropleth"
           }
          ],
          "contour": [
           {
            "colorbar": {
             "outlinewidth": 0,
             "ticks": ""
            },
            "colorscale": [
             [
              0,
              "#0d0887"
             ],
             [
              0.1111111111111111,
              "#46039f"
             ],
             [
              0.2222222222222222,
              "#7201a8"
             ],
             [
              0.3333333333333333,
              "#9c179e"
             ],
             [
              0.4444444444444444,
              "#bd3786"
             ],
             [
              0.5555555555555556,
              "#d8576b"
             ],
             [
              0.6666666666666666,
              "#ed7953"
             ],
             [
              0.7777777777777778,
              "#fb9f3a"
             ],
             [
              0.8888888888888888,
              "#fdca26"
             ],
             [
              1,
              "#f0f921"
             ]
            ],
            "type": "contour"
           }
          ],
          "contourcarpet": [
           {
            "colorbar": {
             "outlinewidth": 0,
             "ticks": ""
            },
            "type": "contourcarpet"
           }
          ],
          "heatmap": [
           {
            "colorbar": {
             "outlinewidth": 0,
             "ticks": ""
            },
            "colorscale": [
             [
              0,
              "#0d0887"
             ],
             [
              0.1111111111111111,
              "#46039f"
             ],
             [
              0.2222222222222222,
              "#7201a8"
             ],
             [
              0.3333333333333333,
              "#9c179e"
             ],
             [
              0.4444444444444444,
              "#bd3786"
             ],
             [
              0.5555555555555556,
              "#d8576b"
             ],
             [
              0.6666666666666666,
              "#ed7953"
             ],
             [
              0.7777777777777778,
              "#fb9f3a"
             ],
             [
              0.8888888888888888,
              "#fdca26"
             ],
             [
              1,
              "#f0f921"
             ]
            ],
            "type": "heatmap"
           }
          ],
          "heatmapgl": [
           {
            "colorbar": {
             "outlinewidth": 0,
             "ticks": ""
            },
            "colorscale": [
             [
              0,
              "#0d0887"
             ],
             [
              0.1111111111111111,
              "#46039f"
             ],
             [
              0.2222222222222222,
              "#7201a8"
             ],
             [
              0.3333333333333333,
              "#9c179e"
             ],
             [
              0.4444444444444444,
              "#bd3786"
             ],
             [
              0.5555555555555556,
              "#d8576b"
             ],
             [
              0.6666666666666666,
              "#ed7953"
             ],
             [
              0.7777777777777778,
              "#fb9f3a"
             ],
             [
              0.8888888888888888,
              "#fdca26"
             ],
             [
              1,
              "#f0f921"
             ]
            ],
            "type": "heatmapgl"
           }
          ],
          "histogram": [
           {
            "marker": {
             "pattern": {
              "fillmode": "overlay",
              "size": 10,
              "solidity": 0.2
             }
            },
            "type": "histogram"
           }
          ],
          "histogram2d": [
           {
            "colorbar": {
             "outlinewidth": 0,
             "ticks": ""
            },
            "colorscale": [
             [
              0,
              "#0d0887"
             ],
             [
              0.1111111111111111,
              "#46039f"
             ],
             [
              0.2222222222222222,
              "#7201a8"
             ],
             [
              0.3333333333333333,
              "#9c179e"
             ],
             [
              0.4444444444444444,
              "#bd3786"
             ],
             [
              0.5555555555555556,
              "#d8576b"
             ],
             [
              0.6666666666666666,
              "#ed7953"
             ],
             [
              0.7777777777777778,
              "#fb9f3a"
             ],
             [
              0.8888888888888888,
              "#fdca26"
             ],
             [
              1,
              "#f0f921"
             ]
            ],
            "type": "histogram2d"
           }
          ],
          "histogram2dcontour": [
           {
            "colorbar": {
             "outlinewidth": 0,
             "ticks": ""
            },
            "colorscale": [
             [
              0,
              "#0d0887"
             ],
             [
              0.1111111111111111,
              "#46039f"
             ],
             [
              0.2222222222222222,
              "#7201a8"
             ],
             [
              0.3333333333333333,
              "#9c179e"
             ],
             [
              0.4444444444444444,
              "#bd3786"
             ],
             [
              0.5555555555555556,
              "#d8576b"
             ],
             [
              0.6666666666666666,
              "#ed7953"
             ],
             [
              0.7777777777777778,
              "#fb9f3a"
             ],
             [
              0.8888888888888888,
              "#fdca26"
             ],
             [
              1,
              "#f0f921"
             ]
            ],
            "type": "histogram2dcontour"
           }
          ],
          "mesh3d": [
           {
            "colorbar": {
             "outlinewidth": 0,
             "ticks": ""
            },
            "type": "mesh3d"
           }
          ],
          "parcoords": [
           {
            "line": {
             "colorbar": {
              "outlinewidth": 0,
              "ticks": ""
             }
            },
            "type": "parcoords"
           }
          ],
          "pie": [
           {
            "automargin": true,
            "type": "pie"
           }
          ],
          "scatter": [
           {
            "fillpattern": {
             "fillmode": "overlay",
             "size": 10,
             "solidity": 0.2
            },
            "type": "scatter"
           }
          ],
          "scatter3d": [
           {
            "line": {
             "colorbar": {
              "outlinewidth": 0,
              "ticks": ""
             }
            },
            "marker": {
             "colorbar": {
              "outlinewidth": 0,
              "ticks": ""
             }
            },
            "type": "scatter3d"
           }
          ],
          "scattercarpet": [
           {
            "marker": {
             "colorbar": {
              "outlinewidth": 0,
              "ticks": ""
             }
            },
            "type": "scattercarpet"
           }
          ],
          "scattergeo": [
           {
            "marker": {
             "colorbar": {
              "outlinewidth": 0,
              "ticks": ""
             }
            },
            "type": "scattergeo"
           }
          ],
          "scattergl": [
           {
            "marker": {
             "colorbar": {
              "outlinewidth": 0,
              "ticks": ""
             }
            },
            "type": "scattergl"
           }
          ],
          "scattermapbox": [
           {
            "marker": {
             "colorbar": {
              "outlinewidth": 0,
              "ticks": ""
             }
            },
            "type": "scattermapbox"
           }
          ],
          "scatterpolar": [
           {
            "marker": {
             "colorbar": {
              "outlinewidth": 0,
              "ticks": ""
             }
            },
            "type": "scatterpolar"
           }
          ],
          "scatterpolargl": [
           {
            "marker": {
             "colorbar": {
              "outlinewidth": 0,
              "ticks": ""
             }
            },
            "type": "scatterpolargl"
           }
          ],
          "scatterternary": [
           {
            "marker": {
             "colorbar": {
              "outlinewidth": 0,
              "ticks": ""
             }
            },
            "type": "scatterternary"
           }
          ],
          "surface": [
           {
            "colorbar": {
             "outlinewidth": 0,
             "ticks": ""
            },
            "colorscale": [
             [
              0,
              "#0d0887"
             ],
             [
              0.1111111111111111,
              "#46039f"
             ],
             [
              0.2222222222222222,
              "#7201a8"
             ],
             [
              0.3333333333333333,
              "#9c179e"
             ],
             [
              0.4444444444444444,
              "#bd3786"
             ],
             [
              0.5555555555555556,
              "#d8576b"
             ],
             [
              0.6666666666666666,
              "#ed7953"
             ],
             [
              0.7777777777777778,
              "#fb9f3a"
             ],
             [
              0.8888888888888888,
              "#fdca26"
             ],
             [
              1,
              "#f0f921"
             ]
            ],
            "type": "surface"
           }
          ],
          "table": [
           {
            "cells": {
             "fill": {
              "color": "#EBF0F8"
             },
             "line": {
              "color": "white"
             }
            },
            "header": {
             "fill": {
              "color": "#C8D4E3"
             },
             "line": {
              "color": "white"
             }
            },
            "type": "table"
           }
          ]
         },
         "layout": {
          "annotationdefaults": {
           "arrowcolor": "#2a3f5f",
           "arrowhead": 0,
           "arrowwidth": 1
          },
          "autotypenumbers": "strict",
          "coloraxis": {
           "colorbar": {
            "outlinewidth": 0,
            "ticks": ""
           }
          },
          "colorscale": {
           "diverging": [
            [
             0,
             "#8e0152"
            ],
            [
             0.1,
             "#c51b7d"
            ],
            [
             0.2,
             "#de77ae"
            ],
            [
             0.3,
             "#f1b6da"
            ],
            [
             0.4,
             "#fde0ef"
            ],
            [
             0.5,
             "#f7f7f7"
            ],
            [
             0.6,
             "#e6f5d0"
            ],
            [
             0.7,
             "#b8e186"
            ],
            [
             0.8,
             "#7fbc41"
            ],
            [
             0.9,
             "#4d9221"
            ],
            [
             1,
             "#276419"
            ]
           ],
           "sequential": [
            [
             0,
             "#0d0887"
            ],
            [
             0.1111111111111111,
             "#46039f"
            ],
            [
             0.2222222222222222,
             "#7201a8"
            ],
            [
             0.3333333333333333,
             "#9c179e"
            ],
            [
             0.4444444444444444,
             "#bd3786"
            ],
            [
             0.5555555555555556,
             "#d8576b"
            ],
            [
             0.6666666666666666,
             "#ed7953"
            ],
            [
             0.7777777777777778,
             "#fb9f3a"
            ],
            [
             0.8888888888888888,
             "#fdca26"
            ],
            [
             1,
             "#f0f921"
            ]
           ],
           "sequentialminus": [
            [
             0,
             "#0d0887"
            ],
            [
             0.1111111111111111,
             "#46039f"
            ],
            [
             0.2222222222222222,
             "#7201a8"
            ],
            [
             0.3333333333333333,
             "#9c179e"
            ],
            [
             0.4444444444444444,
             "#bd3786"
            ],
            [
             0.5555555555555556,
             "#d8576b"
            ],
            [
             0.6666666666666666,
             "#ed7953"
            ],
            [
             0.7777777777777778,
             "#fb9f3a"
            ],
            [
             0.8888888888888888,
             "#fdca26"
            ],
            [
             1,
             "#f0f921"
            ]
           ]
          },
          "colorway": [
           "#636efa",
           "#EF553B",
           "#00cc96",
           "#ab63fa",
           "#FFA15A",
           "#19d3f3",
           "#FF6692",
           "#B6E880",
           "#FF97FF",
           "#FECB52"
          ],
          "font": {
           "color": "#2a3f5f"
          },
          "geo": {
           "bgcolor": "white",
           "lakecolor": "white",
           "landcolor": "#E5ECF6",
           "showlakes": true,
           "showland": true,
           "subunitcolor": "white"
          },
          "hoverlabel": {
           "align": "left"
          },
          "hovermode": "closest",
          "mapbox": {
           "style": "light"
          },
          "paper_bgcolor": "white",
          "plot_bgcolor": "#E5ECF6",
          "polar": {
           "angularaxis": {
            "gridcolor": "white",
            "linecolor": "white",
            "ticks": ""
           },
           "bgcolor": "#E5ECF6",
           "radialaxis": {
            "gridcolor": "white",
            "linecolor": "white",
            "ticks": ""
           }
          },
          "scene": {
           "xaxis": {
            "backgroundcolor": "#E5ECF6",
            "gridcolor": "white",
            "gridwidth": 2,
            "linecolor": "white",
            "showbackground": true,
            "ticks": "",
            "zerolinecolor": "white"
           },
           "yaxis": {
            "backgroundcolor": "#E5ECF6",
            "gridcolor": "white",
            "gridwidth": 2,
            "linecolor": "white",
            "showbackground": true,
            "ticks": "",
            "zerolinecolor": "white"
           },
           "zaxis": {
            "backgroundcolor": "#E5ECF6",
            "gridcolor": "white",
            "gridwidth": 2,
            "linecolor": "white",
            "showbackground": true,
            "ticks": "",
            "zerolinecolor": "white"
           }
          },
          "shapedefaults": {
           "line": {
            "color": "#2a3f5f"
           }
          },
          "ternary": {
           "aaxis": {
            "gridcolor": "white",
            "linecolor": "white",
            "ticks": ""
           },
           "baxis": {
            "gridcolor": "white",
            "linecolor": "white",
            "ticks": ""
           },
           "bgcolor": "#E5ECF6",
           "caxis": {
            "gridcolor": "white",
            "linecolor": "white",
            "ticks": ""
           }
          },
          "title": {
           "x": 0.05
          },
          "xaxis": {
           "automargin": true,
           "gridcolor": "white",
           "linecolor": "white",
           "ticks": "",
           "title": {
            "standoff": 15
           },
           "zerolinecolor": "white",
           "zerolinewidth": 2
          },
          "yaxis": {
           "automargin": true,
           "gridcolor": "white",
           "linecolor": "white",
           "ticks": "",
           "title": {
            "standoff": 15
           },
           "zerolinecolor": "white",
           "zerolinewidth": 2
          }
         }
        },
        "title": {
         "text": "Perkembangan User 6 Bulan Terakhir"
        },
        "xaxis": {
         "anchor": "y",
         "domain": [
          0,
          1
         ],
         "title": {
          "text": "Post Date, Platform"
         }
        },
        "yaxis": {
         "anchor": "x",
         "domain": [
          0,
          1
         ],
         "title": {
          "text": "Jumlah"
         }
        }
       }
      }
     },
     "metadata": {},
     "output_type": "display_data"
    }
   ],
   "source": [
    "grouped = b.groupby(['post_date', 'platform', 'username']).sum().reset_index()\n",
    "\n",
    "grouped['total'] = grouped[['likes', 'comments', 'shares']].sum(axis=1)\n",
    "grouped['post_date_platform'] = grouped['post_date'].dt.strftime('%Y-%m-%d') + ', ' + grouped['platform']\n",
    "grouped['date_only'] = grouped['post_date'].dt.strftime('%Y-%m-%d')\n",
    "\n",
    "melted = pd.melt(grouped, id_vars=['post_date_platform', 'date_only', 'platform', 'total', 'username'], value_vars=['likes', 'comments', 'shares'], var_name='type', value_name='count')\n",
    "\n",
    "fig = px.bar(\n",
    "    melted,\n",
    "    x='post_date_platform',\n",
    "    y='count',\n",
    "    color='username',\n",
    "    barmode='stack',\n",
    "    hover_name='total',\n",
    "    title='Perkembangan User 6 Bulan Terakhir')\n",
    "\n",
    "fig.update_traces(\n",
    "    customdata=['Likes'] * 2 + ['Comments'] * 2 + ['Shares'] * 2,\n",
    "    hovertemplate=\"<br><b>User:</b> %{fullData.name}\"\n",
    "                  \"<br><b>Total:</b> %{hovertext}\"\n",
    "                  \"<br><b>Type:</b> %{customdata}\"\n",
    "                  \"<br><b>Count:</b> %{y}\")\n",
    "\n",
    "fig.update_layout(\n",
    "    xaxis_title='Post Date, Platform',\n",
    "    yaxis_title='Jumlah',\n",
    "    legend_title='User')\n",
    "\n",
    "fig.show()"
   ]
  },
  {
   "cell_type": "code",
   "execution_count": 11,
   "metadata": {},
   "outputs": [],
   "source": [
    "def grafik_1(title:str, xlabel:str, ylabel:str):\n",
    "    for index, row in b.iterrows():\n",
    "        plt.bar(row['post_date'].strftime('%Y-%m-%d') + ' - ' + row['platform'], row[title], color=user_color_map[row['username']])\n",
    "    plt.title(title.capitalize())\n",
    "    plt.xlabel(xlabel)\n",
    "    plt.ylabel(ylabel)\n",
    "    handles = [plt.Rectangle((0,0),1,1, color=user_color_map[user]) for user in user_color_map]\n",
    "    plt.legend(handles, user_color_map.keys(), title='Username', loc='upper right')\n",
    "    #plt.grid(axis='y')"
   ]
  },
  {
   "cell_type": "code",
   "execution_count": 12,
   "metadata": {},
   "outputs": [
    {
     "data": {
      "image/png": "[encoded data removed]",
      "text/plain": [
       "<Figure size 1800x1000 with 3 Axes>"
      ]
     },
     "metadata": {},
     "output_type": "display_data"
    }
   ],
   "source": [
    "cmap = plt.get_cmap('tab20b', len(b['username'].unique()))\n",
    "\n",
    "user_color_map = {user: cmap(i) for i, user in enumerate(b['username'].unique())}\n",
    "\n",
    "plt.figure(figsize=(18, 10))\n",
    "\n",
    "plt.subplot(3,1,1) \n",
    "grafik_1('likes', 'Post Date, Platform', 'Jumlah')\n",
    "\n",
    "plt.subplot(3,1,2) \n",
    "grafik_1('comments', 'Post Date, Platform', 'Jumlah')\n",
    "\n",
    "plt.subplot(3,1,3) \n",
    "grafik_1('shares', 'Post Date, Platform', 'Jumlah')\n",
    "\n",
    "plt.suptitle('Perkembangan User 6 Bulan Terakhir', fontsize=20)\n",
    "plt.tight_layout()\n",
    "plt.show()"
   ]
  },
  {
   "cell_type": "markdown",
   "metadata": {},
   "source": [
    "Kumpulan Aktivitas User dalam Sehari -> untuk mengetahui pola berdasarkan jam dalam sehari"
   ]
  },
  {
   "cell_type": "code",
   "execution_count": 13,
   "metadata": {},
   "outputs": [
    {
     "data": {
      "text/html": [
       "<div>\n",
       "<style scoped>\n",
       "    .dataframe tbody tr th:only-of-type {\n",
       "        vertical-align: middle;\n",
       "    }\n",
       "\n",
       "    .dataframe tbody tr th {\n",
       "        vertical-align: top;\n",
       "    }\n",
       "\n",
       "    .dataframe thead th {\n",
       "        text-align: right;\n",
       "    }\n",
       "</style>\n",
       "<table border=\"1\" class=\"dataframe\">\n",
       "  <thead>\n",
       "    <tr style=\"text-align: right;\">\n",
       "      <th></th>\n",
       "      <th>Hour</th>\n",
       "      <th>likes</th>\n",
       "      <th>comments</th>\n",
       "      <th>shares</th>\n",
       "      <th>User</th>\n",
       "      <th>Content</th>\n",
       "      <th>platform</th>\n",
       "    </tr>\n",
       "  </thead>\n",
       "  <tbody>\n",
       "    <tr>\n",
       "      <th>0</th>\n",
       "      <td>0</td>\n",
       "      <td>7672.0</td>\n",
       "      <td>1377.0</td>\n",
       "      <td>718.0</td>\n",
       "      <td>47</td>\n",
       "      <td>47</td>\n",
       "      <td>Instagram</td>\n",
       "    </tr>\n",
       "    <tr>\n",
       "      <th>1</th>\n",
       "      <td>0</td>\n",
       "      <td>4805.0</td>\n",
       "      <td>911.0</td>\n",
       "      <td>551.0</td>\n",
       "      <td>36</td>\n",
       "      <td>36</td>\n",
       "      <td>Facebook</td>\n",
       "    </tr>\n",
       "    <tr>\n",
       "      <th>2</th>\n",
       "      <td>0</td>\n",
       "      <td>6295.0</td>\n",
       "      <td>874.0</td>\n",
       "      <td>730.0</td>\n",
       "      <td>38</td>\n",
       "      <td>38</td>\n",
       "      <td>Twitter</td>\n",
       "    </tr>\n",
       "    <tr>\n",
       "      <th>3</th>\n",
       "      <td>1</td>\n",
       "      <td>7296.0</td>\n",
       "      <td>1009.0</td>\n",
       "      <td>662.0</td>\n",
       "      <td>44</td>\n",
       "      <td>44</td>\n",
       "      <td>Twitter</td>\n",
       "    </tr>\n",
       "    <tr>\n",
       "      <th>4</th>\n",
       "      <td>1</td>\n",
       "      <td>5279.0</td>\n",
       "      <td>1023.0</td>\n",
       "      <td>632.0</td>\n",
       "      <td>40</td>\n",
       "      <td>40</td>\n",
       "      <td>Instagram</td>\n",
       "    </tr>\n",
       "    <tr>\n",
       "      <th>...</th>\n",
       "      <td>...</td>\n",
       "      <td>...</td>\n",
       "      <td>...</td>\n",
       "      <td>...</td>\n",
       "      <td>...</td>\n",
       "      <td>...</td>\n",
       "      <td>...</td>\n",
       "    </tr>\n",
       "    <tr>\n",
       "      <th>67</th>\n",
       "      <td>22</td>\n",
       "      <td>7755.0</td>\n",
       "      <td>1171.0</td>\n",
       "      <td>793.0</td>\n",
       "      <td>49</td>\n",
       "      <td>49</td>\n",
       "      <td>Facebook</td>\n",
       "    </tr>\n",
       "    <tr>\n",
       "      <th>68</th>\n",
       "      <td>22</td>\n",
       "      <td>6219.0</td>\n",
       "      <td>864.0</td>\n",
       "      <td>577.0</td>\n",
       "      <td>40</td>\n",
       "      <td>40</td>\n",
       "      <td>Twitter</td>\n",
       "    </tr>\n",
       "    <tr>\n",
       "      <th>69</th>\n",
       "      <td>23</td>\n",
       "      <td>5922.0</td>\n",
       "      <td>1008.0</td>\n",
       "      <td>566.0</td>\n",
       "      <td>42</td>\n",
       "      <td>42</td>\n",
       "      <td>Facebook</td>\n",
       "    </tr>\n",
       "    <tr>\n",
       "      <th>70</th>\n",
       "      <td>23</td>\n",
       "      <td>6469.0</td>\n",
       "      <td>1214.0</td>\n",
       "      <td>654.0</td>\n",
       "      <td>44</td>\n",
       "      <td>44</td>\n",
       "      <td>Instagram</td>\n",
       "    </tr>\n",
       "    <tr>\n",
       "      <th>71</th>\n",
       "      <td>23</td>\n",
       "      <td>6379.0</td>\n",
       "      <td>1008.0</td>\n",
       "      <td>610.0</td>\n",
       "      <td>41</td>\n",
       "      <td>41</td>\n",
       "      <td>Twitter</td>\n",
       "    </tr>\n",
       "  </tbody>\n",
       "</table>\n",
       "<p>72 rows × 7 columns</p>\n",
       "</div>"
      ],
      "text/plain": [
       "    Hour   likes  comments  shares  User  Content   platform\n",
       "0      0  7672.0    1377.0   718.0    47       47  Instagram\n",
       "1      0  4805.0     911.0   551.0    36       36   Facebook\n",
       "2      0  6295.0     874.0   730.0    38       38    Twitter\n",
       "3      1  7296.0    1009.0   662.0    44       44    Twitter\n",
       "4      1  5279.0    1023.0   632.0    40       40  Instagram\n",
       "..   ...     ...       ...     ...   ...      ...        ...\n",
       "67    22  7755.0    1171.0   793.0    49       49   Facebook\n",
       "68    22  6219.0     864.0   577.0    40       40    Twitter\n",
       "69    23  5922.0    1008.0   566.0    42       42   Facebook\n",
       "70    23  6469.0    1214.0   654.0    44       44  Instagram\n",
       "71    23  6379.0    1008.0   610.0    41       41    Twitter\n",
       "\n",
       "[72 rows x 7 columns]"
      ]
     },
     "execution_count": 13,
     "metadata": {},
     "output_type": "execute_result"
    }
   ],
   "source": [
    "sum_col = \", \".join([f'SUM(\"{col}\") AS \"{col}\"' for col in data.iloc[:, 5:]])\n",
    "\n",
    "c = query(f'''SELECT HOUR(post_date) AS Hour, {sum_col}, \n",
    "            COUNT(username) AS User, COUNT(content) AS Content, platform FROM data \n",
    "            GROUP BY platform, HOUR(post_date)\n",
    "            ORDER BY HOUR(post_date)''')\n",
    "c"
   ]
  },
  {
   "cell_type": "code",
   "execution_count": 14,
   "metadata": {},
   "outputs": [],
   "source": [
    "def grafik_2(title:str, axis, stack:bool, xlabel:str, ylabel:str, xticks):\n",
    "    pivot_df.plot(kind='bar', stacked=stack, ax=axis)\n",
    "    axis.set_title(title)\n",
    "    axis.set_xlabel(xlabel)\n",
    "    axis.set_ylabel(ylabel)\n",
    "    axis.set_xticklabels(xticks, rotation=0)\n",
    "    axis.legend(title='Platform')    \n",
    "    #axis.grid(axis='y')"
   ]
  },
  {
   "cell_type": "code",
   "execution_count": 15,
   "metadata": {},
   "outputs": [
    {
     "data": {
      "image/png": "[encoded data removed]",
      "text/plain": [
       "<Figure size 1800x600 with 2 Axes>"
      ]
     },
     "metadata": {},
     "output_type": "display_data"
    }
   ],
   "source": [
    "grouped = c.groupby(['Hour', 'platform'])['User'].sum().reset_index()\n",
    "\n",
    "pivot_df = grouped.pivot_table(index='Hour', columns='platform', values='User', fill_value=0)\n",
    "\n",
    "fig, (ax1, ax2) = plt.subplots(1, 2, figsize=(18, 6))\n",
    "\n",
    "grafik_2('Non-Stacked', ax1, False, 'Jam', 'Jumlah', pivot_df.index)\n",
    "\n",
    "grafik_2('Stacked', ax2, True, 'Jam', 'Jumlah', pivot_df.index)\n",
    "\n",
    "plt.suptitle('Frekuensi Posting dalam Sehari', fontsize=20)\n",
    "plt.tight_layout()\n",
    "plt.show()"
   ]
  },
  {
   "cell_type": "code",
   "execution_count": 16,
   "metadata": {},
   "outputs": [
    {
     "data": {
      "text/html": [
       "<div>\n",
       "<style scoped>\n",
       "    .dataframe tbody tr th:only-of-type {\n",
       "        vertical-align: middle;\n",
       "    }\n",
       "\n",
       "    .dataframe tbody tr th {\n",
       "        vertical-align: top;\n",
       "    }\n",
       "\n",
       "    .dataframe thead th {\n",
       "        text-align: right;\n",
       "    }\n",
       "</style>\n",
       "<table border=\"1\" class=\"dataframe\">\n",
       "  <thead>\n",
       "    <tr style=\"text-align: right;\">\n",
       "      <th></th>\n",
       "      <th>Hour_4</th>\n",
       "      <th>likes</th>\n",
       "      <th>comments</th>\n",
       "      <th>shares</th>\n",
       "      <th>User</th>\n",
       "      <th>Content</th>\n",
       "      <th>platform</th>\n",
       "    </tr>\n",
       "  </thead>\n",
       "  <tbody>\n",
       "    <tr>\n",
       "      <th>0</th>\n",
       "      <td>0</td>\n",
       "      <td>27859.0</td>\n",
       "      <td>4260.0</td>\n",
       "      <td>2744.0</td>\n",
       "      <td>171.0</td>\n",
       "      <td>171.0</td>\n",
       "      <td>Twitter</td>\n",
       "    </tr>\n",
       "    <tr>\n",
       "      <th>1</th>\n",
       "      <td>0</td>\n",
       "      <td>23486.0</td>\n",
       "      <td>4372.0</td>\n",
       "      <td>2593.0</td>\n",
       "      <td>160.0</td>\n",
       "      <td>160.0</td>\n",
       "      <td>Instagram</td>\n",
       "    </tr>\n",
       "    <tr>\n",
       "      <th>2</th>\n",
       "      <td>0</td>\n",
       "      <td>25060.0</td>\n",
       "      <td>4064.0</td>\n",
       "      <td>2495.0</td>\n",
       "      <td>160.0</td>\n",
       "      <td>160.0</td>\n",
       "      <td>Facebook</td>\n",
       "    </tr>\n",
       "    <tr>\n",
       "      <th>3</th>\n",
       "      <td>4</td>\n",
       "      <td>26863.0</td>\n",
       "      <td>4230.0</td>\n",
       "      <td>2668.0</td>\n",
       "      <td>166.0</td>\n",
       "      <td>166.0</td>\n",
       "      <td>Twitter</td>\n",
       "    </tr>\n",
       "    <tr>\n",
       "      <th>4</th>\n",
       "      <td>4</td>\n",
       "      <td>27466.0</td>\n",
       "      <td>4438.0</td>\n",
       "      <td>2603.0</td>\n",
       "      <td>174.0</td>\n",
       "      <td>174.0</td>\n",
       "      <td>Instagram</td>\n",
       "    </tr>\n",
       "    <tr>\n",
       "      <th>5</th>\n",
       "      <td>4</td>\n",
       "      <td>26291.0</td>\n",
       "      <td>3911.0</td>\n",
       "      <td>2507.0</td>\n",
       "      <td>155.0</td>\n",
       "      <td>155.0</td>\n",
       "      <td>Facebook</td>\n",
       "    </tr>\n",
       "    <tr>\n",
       "      <th>6</th>\n",
       "      <td>8</td>\n",
       "      <td>23969.0</td>\n",
       "      <td>4083.0</td>\n",
       "      <td>2170.0</td>\n",
       "      <td>154.0</td>\n",
       "      <td>154.0</td>\n",
       "      <td>Facebook</td>\n",
       "    </tr>\n",
       "    <tr>\n",
       "      <th>7</th>\n",
       "      <td>8</td>\n",
       "      <td>22861.0</td>\n",
       "      <td>4109.0</td>\n",
       "      <td>2487.0</td>\n",
       "      <td>162.0</td>\n",
       "      <td>162.0</td>\n",
       "      <td>Instagram</td>\n",
       "    </tr>\n",
       "    <tr>\n",
       "      <th>8</th>\n",
       "      <td>8</td>\n",
       "      <td>25653.0</td>\n",
       "      <td>4095.0</td>\n",
       "      <td>2578.0</td>\n",
       "      <td>163.0</td>\n",
       "      <td>163.0</td>\n",
       "      <td>Twitter</td>\n",
       "    </tr>\n",
       "    <tr>\n",
       "      <th>9</th>\n",
       "      <td>12</td>\n",
       "      <td>30768.0</td>\n",
       "      <td>5304.0</td>\n",
       "      <td>2990.0</td>\n",
       "      <td>194.0</td>\n",
       "      <td>194.0</td>\n",
       "      <td>Facebook</td>\n",
       "    </tr>\n",
       "    <tr>\n",
       "      <th>10</th>\n",
       "      <td>12</td>\n",
       "      <td>26935.0</td>\n",
       "      <td>4517.0</td>\n",
       "      <td>2692.0</td>\n",
       "      <td>171.0</td>\n",
       "      <td>171.0</td>\n",
       "      <td>Instagram</td>\n",
       "    </tr>\n",
       "    <tr>\n",
       "      <th>11</th>\n",
       "      <td>12</td>\n",
       "      <td>26673.0</td>\n",
       "      <td>3786.0</td>\n",
       "      <td>2417.0</td>\n",
       "      <td>162.0</td>\n",
       "      <td>162.0</td>\n",
       "      <td>Twitter</td>\n",
       "    </tr>\n",
       "    <tr>\n",
       "      <th>12</th>\n",
       "      <td>16</td>\n",
       "      <td>23880.0</td>\n",
       "      <td>4086.0</td>\n",
       "      <td>2566.0</td>\n",
       "      <td>162.0</td>\n",
       "      <td>162.0</td>\n",
       "      <td>Facebook</td>\n",
       "    </tr>\n",
       "    <tr>\n",
       "      <th>13</th>\n",
       "      <td>16</td>\n",
       "      <td>26829.0</td>\n",
       "      <td>4483.0</td>\n",
       "      <td>2636.0</td>\n",
       "      <td>182.0</td>\n",
       "      <td>182.0</td>\n",
       "      <td>Instagram</td>\n",
       "    </tr>\n",
       "    <tr>\n",
       "      <th>14</th>\n",
       "      <td>16</td>\n",
       "      <td>22481.0</td>\n",
       "      <td>3905.0</td>\n",
       "      <td>2327.0</td>\n",
       "      <td>152.0</td>\n",
       "      <td>152.0</td>\n",
       "      <td>Twitter</td>\n",
       "    </tr>\n",
       "    <tr>\n",
       "      <th>15</th>\n",
       "      <td>20</td>\n",
       "      <td>26972.0</td>\n",
       "      <td>4501.0</td>\n",
       "      <td>2769.0</td>\n",
       "      <td>181.0</td>\n",
       "      <td>181.0</td>\n",
       "      <td>Instagram</td>\n",
       "    </tr>\n",
       "    <tr>\n",
       "      <th>16</th>\n",
       "      <td>20</td>\n",
       "      <td>24278.0</td>\n",
       "      <td>4330.0</td>\n",
       "      <td>2479.0</td>\n",
       "      <td>166.0</td>\n",
       "      <td>166.0</td>\n",
       "      <td>Facebook</td>\n",
       "    </tr>\n",
       "    <tr>\n",
       "      <th>17</th>\n",
       "      <td>20</td>\n",
       "      <td>25873.0</td>\n",
       "      <td>3984.0</td>\n",
       "      <td>2293.0</td>\n",
       "      <td>165.0</td>\n",
       "      <td>165.0</td>\n",
       "      <td>Twitter</td>\n",
       "    </tr>\n",
       "  </tbody>\n",
       "</table>\n",
       "</div>"
      ],
      "text/plain": [
       "    Hour_4    likes  comments  shares   User  Content   platform\n",
       "0        0  27859.0    4260.0  2744.0  171.0    171.0    Twitter\n",
       "1        0  23486.0    4372.0  2593.0  160.0    160.0  Instagram\n",
       "2        0  25060.0    4064.0  2495.0  160.0    160.0   Facebook\n",
       "3        4  26863.0    4230.0  2668.0  166.0    166.0    Twitter\n",
       "4        4  27466.0    4438.0  2603.0  174.0    174.0  Instagram\n",
       "5        4  26291.0    3911.0  2507.0  155.0    155.0   Facebook\n",
       "6        8  23969.0    4083.0  2170.0  154.0    154.0   Facebook\n",
       "7        8  22861.0    4109.0  2487.0  162.0    162.0  Instagram\n",
       "8        8  25653.0    4095.0  2578.0  163.0    163.0    Twitter\n",
       "9       12  30768.0    5304.0  2990.0  194.0    194.0   Facebook\n",
       "10      12  26935.0    4517.0  2692.0  171.0    171.0  Instagram\n",
       "11      12  26673.0    3786.0  2417.0  162.0    162.0    Twitter\n",
       "12      16  23880.0    4086.0  2566.0  162.0    162.0   Facebook\n",
       "13      16  26829.0    4483.0  2636.0  182.0    182.0  Instagram\n",
       "14      16  22481.0    3905.0  2327.0  152.0    152.0    Twitter\n",
       "15      20  26972.0    4501.0  2769.0  181.0    181.0  Instagram\n",
       "16      20  24278.0    4330.0  2479.0  166.0    166.0   Facebook\n",
       "17      20  25873.0    3984.0  2293.0  165.0    165.0    Twitter"
      ]
     },
     "execution_count": 16,
     "metadata": {},
     "output_type": "execute_result"
    }
   ],
   "source": [
    "sum_col = \", \".join([f'SUM(\"{col}\") AS \"{col}\"' for col in c.iloc[:, 1:6]])\n",
    "\n",
    "c_t4 = query(f'''SELECT FLOOR(Hour / 4) * 4 AS Hour_4, {sum_col}, platform FROM c\n",
    "        GROUP BY platform, Hour_4\n",
    "        ORDER BY Hour_4''')\n",
    "c_t4['Hour_4'] = c_t4['Hour_4'].astype(int)\n",
    "c_t4"
   ]
  },
  {
   "cell_type": "code",
   "execution_count": 17,
   "metadata": {},
   "outputs": [
    {
     "data": {
      "image/png": "[encoded data removed]",
      "text/plain": [
       "<Figure size 1800x600 with 2 Axes>"
      ]
     },
     "metadata": {},
     "output_type": "display_data"
    }
   ],
   "source": [
    "grouped = c_t4.groupby(['Hour_4', 'platform'])['User'].sum().reset_index()\n",
    "\n",
    "pivot_df = grouped.pivot_table(index='Hour_4', columns='platform', values='User', fill_value=0)\n",
    "\n",
    "fig, (ax1, ax2) = plt.subplots(1, 2, figsize=(18, 6))\n",
    "\n",
    "grafik_2('Non-Stacked', ax1, False, 'Jam', 'Jumlah', [f'{i} - {i+3}' for i in range(0, 24, 4)])\n",
    "\n",
    "grafik_2('Stacked', ax2, True, 'Jam', 'Jumlah', [f'{i} - {i+3}' for i in range(0, 24, 4)])\n",
    "\n",
    "plt.suptitle('Frekuensi Posting dalam Sehari', fontsize=20)\n",
    "plt.tight_layout()\n",
    "plt.show()"
   ]
  },
  {
   "cell_type": "code",
   "execution_count": 18,
   "metadata": {},
   "outputs": [
    {
     "data": {
      "text/html": [
       "\n",
       "        <iframe\n",
       "            width=\"100%\"\n",
       "            height=\"650\"\n",
       "            src=\"http://127.0.0.1:2/\"\n",
       "            frameborder=\"0\"\n",
       "            allowfullscreen\n",
       "            \n",
       "        ></iframe>\n",
       "        "
      ],
      "text/plain": [
       "<IPython.lib.display.IFrame at 0x29f165f5970>"
      ]
     },
     "metadata": {},
     "output_type": "display_data"
    }
   ],
   "source": [
    "app = Dash(__name__)\n",
    "\n",
    "app.layout = html.Div([\n",
    "    html.H2('Perkembangan Interaksi Platform', style={'color': 'khaki'}),\n",
    "    dcc.Dropdown(\n",
    "        id='platform-dropdown',\n",
    "        options=[{'label': platform, 'value': platform} for platform in c_t4['platform'].unique()],\n",
    "        value=sorted(c_t4['platform'].unique())[0],\n",
    "        clearable=False\n",
    "    ),\n",
    "    dcc.Graph(id='platform-graph')\n",
    "])\n",
    "\n",
    "@app.callback(\n",
    "    Output('platform-graph', 'figure'),\n",
    "    [Input('platform-dropdown', 'value')]\n",
    ")\n",
    "def update_graph(selected_platform):\n",
    "    filtered_df = c_t4[c_t4['platform'] == selected_platform]\n",
    "    fig = px.bar(filtered_df, x=[f'{i} - {i+3}' for i in range(0, 24, 4)], y=['likes', 'comments', 'shares'], barmode='group',\n",
    "                 labels={'x': 'Jam', 'variable': 'Category', 'value': 'Jumlah'}, title=f'Statistik {selected_platform}')\n",
    "    fig.update_layout(xaxis_title='Jam', yaxis_title='Jumlah', legend_title='Category')\n",
    "    return fig\n",
    "\n",
    "if __name__ == '__main__':\n",
    "    app.run_server(debug=True,  port=2)"
   ]
  },
  {
   "cell_type": "markdown",
   "metadata": {},
   "source": [
    "Rata-Rata Aktivitas (likes, comments, dan share) disetiap Postingan"
   ]
  },
  {
   "cell_type": "code",
   "execution_count": 19,
   "metadata": {},
   "outputs": [
    {
     "data": {
      "text/html": [
       "<div>\n",
       "<style scoped>\n",
       "    .dataframe tbody tr th:only-of-type {\n",
       "        vertical-align: middle;\n",
       "    }\n",
       "\n",
       "    .dataframe tbody tr th {\n",
       "        vertical-align: top;\n",
       "    }\n",
       "\n",
       "    .dataframe thead th {\n",
       "        text-align: right;\n",
       "    }\n",
       "</style>\n",
       "<table border=\"1\" class=\"dataframe\">\n",
       "  <thead>\n",
       "    <tr style=\"text-align: right;\">\n",
       "      <th></th>\n",
       "      <th>id</th>\n",
       "      <th>platform</th>\n",
       "      <th>username</th>\n",
       "      <th>post_date</th>\n",
       "      <th>content</th>\n",
       "      <th>likes</th>\n",
       "      <th>comments</th>\n",
       "      <th>shares</th>\n",
       "      <th>avg_count</th>\n",
       "    </tr>\n",
       "  </thead>\n",
       "  <tbody>\n",
       "    <tr>\n",
       "      <th>0</th>\n",
       "      <td>1</td>\n",
       "      <td>Twitter</td>\n",
       "      <td>fosterkayla</td>\n",
       "      <td>2023-10-10 07:45:03</td>\n",
       "      <td>Scene six education society.</td>\n",
       "      <td>17</td>\n",
       "      <td>15</td>\n",
       "      <td>14</td>\n",
       "      <td>15.33</td>\n",
       "    </tr>\n",
       "    <tr>\n",
       "      <th>1</th>\n",
       "      <td>2</td>\n",
       "      <td>Facebook</td>\n",
       "      <td>xnorris</td>\n",
       "      <td>2023-10-25 07:45:03</td>\n",
       "      <td>Practice people than help tend likely.</td>\n",
       "      <td>177</td>\n",
       "      <td>4</td>\n",
       "      <td>29</td>\n",
       "      <td>70.00</td>\n",
       "    </tr>\n",
       "    <tr>\n",
       "      <th>2</th>\n",
       "      <td>3</td>\n",
       "      <td>Facebook</td>\n",
       "      <td>michelleking</td>\n",
       "      <td>2023-03-25 03:45:03</td>\n",
       "      <td>Daughter yes word risk shoulder evening nation.</td>\n",
       "      <td>279</td>\n",
       "      <td>39</td>\n",
       "      <td>24</td>\n",
       "      <td>114.00</td>\n",
       "    </tr>\n",
       "    <tr>\n",
       "      <th>3</th>\n",
       "      <td>4</td>\n",
       "      <td>Instagram</td>\n",
       "      <td>penaveronica</td>\n",
       "      <td>2022-12-10 17:45:03</td>\n",
       "      <td>All prove lot bit teacher election speak.</td>\n",
       "      <td>45</td>\n",
       "      <td>18</td>\n",
       "      <td>13</td>\n",
       "      <td>25.33</td>\n",
       "    </tr>\n",
       "    <tr>\n",
       "      <th>4</th>\n",
       "      <td>5</td>\n",
       "      <td>Instagram</td>\n",
       "      <td>smithmeghan</td>\n",
       "      <td>2022-12-10 01:45:03</td>\n",
       "      <td>Those lawyer each sit sure organization stop.</td>\n",
       "      <td>12</td>\n",
       "      <td>6</td>\n",
       "      <td>9</td>\n",
       "      <td>9.00</td>\n",
       "    </tr>\n",
       "    <tr>\n",
       "      <th>...</th>\n",
       "      <td>...</td>\n",
       "      <td>...</td>\n",
       "      <td>...</td>\n",
       "      <td>...</td>\n",
       "      <td>...</td>\n",
       "      <td>...</td>\n",
       "      <td>...</td>\n",
       "      <td>...</td>\n",
       "      <td>...</td>\n",
       "    </tr>\n",
       "    <tr>\n",
       "      <th>2995</th>\n",
       "      <td>2996</td>\n",
       "      <td>Twitter</td>\n",
       "      <td>walkerthomas</td>\n",
       "      <td>2023-10-31 05:45:03</td>\n",
       "      <td>Argue fall from degree.</td>\n",
       "      <td>82</td>\n",
       "      <td>38</td>\n",
       "      <td>20</td>\n",
       "      <td>46.67</td>\n",
       "    </tr>\n",
       "    <tr>\n",
       "      <th>2996</th>\n",
       "      <td>2997</td>\n",
       "      <td>Facebook</td>\n",
       "      <td>shieldsnicholas</td>\n",
       "      <td>2023-09-01 23:45:03</td>\n",
       "      <td>Bank effort return glass number foot.</td>\n",
       "      <td>245</td>\n",
       "      <td>14</td>\n",
       "      <td>19</td>\n",
       "      <td>92.67</td>\n",
       "    </tr>\n",
       "    <tr>\n",
       "      <th>2997</th>\n",
       "      <td>2998</td>\n",
       "      <td>Twitter</td>\n",
       "      <td>christinasaunders</td>\n",
       "      <td>2023-09-04 00:45:03</td>\n",
       "      <td>Lead a with physical south arm crime.</td>\n",
       "      <td>146</td>\n",
       "      <td>38</td>\n",
       "      <td>23</td>\n",
       "      <td>69.00</td>\n",
       "    </tr>\n",
       "    <tr>\n",
       "      <th>2998</th>\n",
       "      <td>2999</td>\n",
       "      <td>Instagram</td>\n",
       "      <td>destinyharris</td>\n",
       "      <td>2023-11-08 19:45:03</td>\n",
       "      <td>Consumer especially support decision quality c...</td>\n",
       "      <td>150</td>\n",
       "      <td>6</td>\n",
       "      <td>5</td>\n",
       "      <td>53.67</td>\n",
       "    </tr>\n",
       "    <tr>\n",
       "      <th>2999</th>\n",
       "      <td>3000</td>\n",
       "      <td>Facebook</td>\n",
       "      <td>jeremyjohnson</td>\n",
       "      <td>2023-07-29 19:45:03</td>\n",
       "      <td>Major happy enjoy foot together power.</td>\n",
       "      <td>29</td>\n",
       "      <td>12</td>\n",
       "      <td>3</td>\n",
       "      <td>14.67</td>\n",
       "    </tr>\n",
       "  </tbody>\n",
       "</table>\n",
       "<p>3000 rows × 9 columns</p>\n",
       "</div>"
      ],
      "text/plain": [
       "        id   platform           username           post_date  \\\n",
       "0        1    Twitter        fosterkayla 2023-10-10 07:45:03   \n",
       "1        2   Facebook            xnorris 2023-10-25 07:45:03   \n",
       "2        3   Facebook       michelleking 2023-03-25 03:45:03   \n",
       "3        4  Instagram       penaveronica 2022-12-10 17:45:03   \n",
       "4        5  Instagram        smithmeghan 2022-12-10 01:45:03   \n",
       "...    ...        ...                ...                 ...   \n",
       "2995  2996    Twitter       walkerthomas 2023-10-31 05:45:03   \n",
       "2996  2997   Facebook    shieldsnicholas 2023-09-01 23:45:03   \n",
       "2997  2998    Twitter  christinasaunders 2023-09-04 00:45:03   \n",
       "2998  2999  Instagram      destinyharris 2023-11-08 19:45:03   \n",
       "2999  3000   Facebook      jeremyjohnson 2023-07-29 19:45:03   \n",
       "\n",
       "                                                content  likes  comments  \\\n",
       "0                          Scene six education society.     17        15   \n",
       "1                Practice people than help tend likely.    177         4   \n",
       "2       Daughter yes word risk shoulder evening nation.    279        39   \n",
       "3             All prove lot bit teacher election speak.     45        18   \n",
       "4         Those lawyer each sit sure organization stop.     12         6   \n",
       "...                                                 ...    ...       ...   \n",
       "2995                            Argue fall from degree.     82        38   \n",
       "2996              Bank effort return glass number foot.    245        14   \n",
       "2997              Lead a with physical south arm crime.    146        38   \n",
       "2998  Consumer especially support decision quality c...    150         6   \n",
       "2999             Major happy enjoy foot together power.     29        12   \n",
       "\n",
       "      shares  avg_count  \n",
       "0         14      15.33  \n",
       "1         29      70.00  \n",
       "2         24     114.00  \n",
       "3         13      25.33  \n",
       "4          9       9.00  \n",
       "...      ...        ...  \n",
       "2995      20      46.67  \n",
       "2996      19      92.67  \n",
       "2997      23      69.00  \n",
       "2998       5      53.67  \n",
       "2999       3      14.67  \n",
       "\n",
       "[3000 rows x 9 columns]"
      ]
     },
     "execution_count": 19,
     "metadata": {},
     "output_type": "execute_result"
    }
   ],
   "source": [
    "data['avg_count'] = data[['likes', 'comments', 'shares']].mean(axis=1).round(2)\n",
    "data"
   ]
  },
  {
   "cell_type": "code",
   "execution_count": 20,
   "metadata": {},
   "outputs": [
    {
     "data": {
      "text/plain": [
       "platform   username      \n",
       "Twitter    johnsonmichael    3\n",
       "Facebook   qwhite            2\n",
       "Twitter    williamsdaniel    2\n",
       "Facebook   smithkenneth      2\n",
       "           aboyd             2\n",
       "                            ..\n",
       "Instagram  ahoward           1\n",
       "           akemp             1\n",
       "           alan15            1\n",
       "           alancollins       1\n",
       "Twitter    ztaylor           1\n",
       "Name: count, Length: 2984, dtype: int64"
      ]
     },
     "execution_count": 20,
     "metadata": {},
     "output_type": "execute_result"
    }
   ],
   "source": [
    "#cek duplikat user\n",
    "data[['platform', 'username']].value_counts()"
   ]
  },
  {
   "cell_type": "code",
   "execution_count": 21,
   "metadata": {},
   "outputs": [
    {
     "data": {
      "text/html": [
       "<div>\n",
       "<style scoped>\n",
       "    .dataframe tbody tr th:only-of-type {\n",
       "        vertical-align: middle;\n",
       "    }\n",
       "\n",
       "    .dataframe tbody tr th {\n",
       "        vertical-align: top;\n",
       "    }\n",
       "\n",
       "    .dataframe thead th {\n",
       "        text-align: right;\n",
       "    }\n",
       "</style>\n",
       "<table border=\"1\" class=\"dataframe\">\n",
       "  <thead>\n",
       "    <tr style=\"text-align: right;\">\n",
       "      <th></th>\n",
       "      <th>username</th>\n",
       "      <th>platform</th>\n",
       "      <th>Content</th>\n",
       "      <th>likes</th>\n",
       "      <th>comments</th>\n",
       "      <th>shares</th>\n",
       "      <th>avg_count</th>\n",
       "    </tr>\n",
       "  </thead>\n",
       "  <tbody>\n",
       "    <tr>\n",
       "      <th>0</th>\n",
       "      <td>johnsonmichael</td>\n",
       "      <td>Twitter</td>\n",
       "      <td>3</td>\n",
       "      <td>466.0</td>\n",
       "      <td>35.0</td>\n",
       "      <td>59.0</td>\n",
       "      <td>186.66</td>\n",
       "    </tr>\n",
       "    <tr>\n",
       "      <th>1</th>\n",
       "      <td>james79</td>\n",
       "      <td>Instagram</td>\n",
       "      <td>2</td>\n",
       "      <td>278.0</td>\n",
       "      <td>59.0</td>\n",
       "      <td>29.0</td>\n",
       "      <td>122.00</td>\n",
       "    </tr>\n",
       "    <tr>\n",
       "      <th>2</th>\n",
       "      <td>aboyd</td>\n",
       "      <td>Facebook</td>\n",
       "      <td>2</td>\n",
       "      <td>101.0</td>\n",
       "      <td>33.0</td>\n",
       "      <td>27.0</td>\n",
       "      <td>53.67</td>\n",
       "    </tr>\n",
       "    <tr>\n",
       "      <th>3</th>\n",
       "      <td>michael62</td>\n",
       "      <td>Twitter</td>\n",
       "      <td>2</td>\n",
       "      <td>322.0</td>\n",
       "      <td>57.0</td>\n",
       "      <td>30.0</td>\n",
       "      <td>136.33</td>\n",
       "    </tr>\n",
       "    <tr>\n",
       "      <th>4</th>\n",
       "      <td>osmith</td>\n",
       "      <td>Instagram</td>\n",
       "      <td>2</td>\n",
       "      <td>226.0</td>\n",
       "      <td>53.0</td>\n",
       "      <td>58.0</td>\n",
       "      <td>112.34</td>\n",
       "    </tr>\n",
       "    <tr>\n",
       "      <th>...</th>\n",
       "      <td>...</td>\n",
       "      <td>...</td>\n",
       "      <td>...</td>\n",
       "      <td>...</td>\n",
       "      <td>...</td>\n",
       "      <td>...</td>\n",
       "      <td>...</td>\n",
       "    </tr>\n",
       "    <tr>\n",
       "      <th>2979</th>\n",
       "      <td>turnerjessica</td>\n",
       "      <td>Instagram</td>\n",
       "      <td>1</td>\n",
       "      <td>152.0</td>\n",
       "      <td>1.0</td>\n",
       "      <td>18.0</td>\n",
       "      <td>57.00</td>\n",
       "    </tr>\n",
       "    <tr>\n",
       "      <th>2980</th>\n",
       "      <td>jsanders</td>\n",
       "      <td>Facebook</td>\n",
       "      <td>1</td>\n",
       "      <td>190.0</td>\n",
       "      <td>23.0</td>\n",
       "      <td>20.0</td>\n",
       "      <td>77.67</td>\n",
       "    </tr>\n",
       "    <tr>\n",
       "      <th>2981</th>\n",
       "      <td>wilkinspamela</td>\n",
       "      <td>Instagram</td>\n",
       "      <td>1</td>\n",
       "      <td>13.0</td>\n",
       "      <td>23.0</td>\n",
       "      <td>26.0</td>\n",
       "      <td>20.67</td>\n",
       "    </tr>\n",
       "    <tr>\n",
       "      <th>2982</th>\n",
       "      <td>karinabender</td>\n",
       "      <td>Instagram</td>\n",
       "      <td>1</td>\n",
       "      <td>172.0</td>\n",
       "      <td>44.0</td>\n",
       "      <td>5.0</td>\n",
       "      <td>73.67</td>\n",
       "    </tr>\n",
       "    <tr>\n",
       "      <th>2983</th>\n",
       "      <td>wwhite</td>\n",
       "      <td>Instagram</td>\n",
       "      <td>1</td>\n",
       "      <td>102.0</td>\n",
       "      <td>6.0</td>\n",
       "      <td>29.0</td>\n",
       "      <td>45.67</td>\n",
       "    </tr>\n",
       "  </tbody>\n",
       "</table>\n",
       "<p>2984 rows × 7 columns</p>\n",
       "</div>"
      ],
      "text/plain": [
       "            username   platform  Content  likes  comments  shares  avg_count\n",
       "0     johnsonmichael    Twitter        3  466.0      35.0    59.0     186.66\n",
       "1            james79  Instagram        2  278.0      59.0    29.0     122.00\n",
       "2              aboyd   Facebook        2  101.0      33.0    27.0      53.67\n",
       "3          michael62    Twitter        2  322.0      57.0    30.0     136.33\n",
       "4             osmith  Instagram        2  226.0      53.0    58.0     112.34\n",
       "...              ...        ...      ...    ...       ...     ...        ...\n",
       "2979   turnerjessica  Instagram        1  152.0       1.0    18.0      57.00\n",
       "2980        jsanders   Facebook        1  190.0      23.0    20.0      77.67\n",
       "2981   wilkinspamela  Instagram        1   13.0      23.0    26.0      20.67\n",
       "2982    karinabender  Instagram        1  172.0      44.0     5.0      73.67\n",
       "2983          wwhite  Instagram        1  102.0       6.0    29.0      45.67\n",
       "\n",
       "[2984 rows x 7 columns]"
      ]
     },
     "execution_count": 21,
     "metadata": {},
     "output_type": "execute_result"
    }
   ],
   "source": [
    "#berdasarkan user (yang melakukan post >1)\n",
    "sum_col = \", \".join([f'SUM(\"{col}\") AS \"{col}\"' for col in data.iloc[:, 5:9]])\n",
    "\n",
    "d = query(f'''SELECT username, platform, COUNT(content) AS Content,\n",
    "            {sum_col} FROM data \n",
    "            GROUP BY username, platform\n",
    "            ORDER BY Content DESC''')\n",
    "d   "
   ]
  },
  {
   "cell_type": "markdown",
   "metadata": {},
   "source": [
    "Korelasi Panjang Teks Postingan dan Jumlah Interaksi"
   ]
  },
  {
   "cell_type": "code",
   "execution_count": 22,
   "metadata": {},
   "outputs": [
    {
     "data": {
      "text/html": [
       "<div>\n",
       "<style scoped>\n",
       "    .dataframe tbody tr th:only-of-type {\n",
       "        vertical-align: middle;\n",
       "    }\n",
       "\n",
       "    .dataframe tbody tr th {\n",
       "        vertical-align: top;\n",
       "    }\n",
       "\n",
       "    .dataframe thead th {\n",
       "        text-align: right;\n",
       "    }\n",
       "</style>\n",
       "<table border=\"1\" class=\"dataframe\">\n",
       "  <thead>\n",
       "    <tr style=\"text-align: right;\">\n",
       "      <th></th>\n",
       "      <th>id</th>\n",
       "      <th>platform</th>\n",
       "      <th>username</th>\n",
       "      <th>post_date</th>\n",
       "      <th>content</th>\n",
       "      <th>likes</th>\n",
       "      <th>comments</th>\n",
       "      <th>shares</th>\n",
       "      <th>avg_count</th>\n",
       "      <th>len_content</th>\n",
       "    </tr>\n",
       "  </thead>\n",
       "  <tbody>\n",
       "    <tr>\n",
       "      <th>0</th>\n",
       "      <td>1</td>\n",
       "      <td>Twitter</td>\n",
       "      <td>fosterkayla</td>\n",
       "      <td>2023-10-10 07:45:03</td>\n",
       "      <td>Scene six education society.</td>\n",
       "      <td>17</td>\n",
       "      <td>15</td>\n",
       "      <td>14</td>\n",
       "      <td>15.33</td>\n",
       "      <td>28</td>\n",
       "    </tr>\n",
       "    <tr>\n",
       "      <th>1</th>\n",
       "      <td>2</td>\n",
       "      <td>Facebook</td>\n",
       "      <td>xnorris</td>\n",
       "      <td>2023-10-25 07:45:03</td>\n",
       "      <td>Practice people than help tend likely.</td>\n",
       "      <td>177</td>\n",
       "      <td>4</td>\n",
       "      <td>29</td>\n",
       "      <td>70.00</td>\n",
       "      <td>38</td>\n",
       "    </tr>\n",
       "    <tr>\n",
       "      <th>2</th>\n",
       "      <td>3</td>\n",
       "      <td>Facebook</td>\n",
       "      <td>michelleking</td>\n",
       "      <td>2023-03-25 03:45:03</td>\n",
       "      <td>Daughter yes word risk shoulder evening nation.</td>\n",
       "      <td>279</td>\n",
       "      <td>39</td>\n",
       "      <td>24</td>\n",
       "      <td>114.00</td>\n",
       "      <td>47</td>\n",
       "    </tr>\n",
       "    <tr>\n",
       "      <th>3</th>\n",
       "      <td>4</td>\n",
       "      <td>Instagram</td>\n",
       "      <td>penaveronica</td>\n",
       "      <td>2022-12-10 17:45:03</td>\n",
       "      <td>All prove lot bit teacher election speak.</td>\n",
       "      <td>45</td>\n",
       "      <td>18</td>\n",
       "      <td>13</td>\n",
       "      <td>25.33</td>\n",
       "      <td>41</td>\n",
       "    </tr>\n",
       "    <tr>\n",
       "      <th>4</th>\n",
       "      <td>5</td>\n",
       "      <td>Instagram</td>\n",
       "      <td>smithmeghan</td>\n",
       "      <td>2022-12-10 01:45:03</td>\n",
       "      <td>Those lawyer each sit sure organization stop.</td>\n",
       "      <td>12</td>\n",
       "      <td>6</td>\n",
       "      <td>9</td>\n",
       "      <td>9.00</td>\n",
       "      <td>45</td>\n",
       "    </tr>\n",
       "  </tbody>\n",
       "</table>\n",
       "</div>"
      ],
      "text/plain": [
       "   id   platform      username           post_date  \\\n",
       "0   1    Twitter   fosterkayla 2023-10-10 07:45:03   \n",
       "1   2   Facebook       xnorris 2023-10-25 07:45:03   \n",
       "2   3   Facebook  michelleking 2023-03-25 03:45:03   \n",
       "3   4  Instagram  penaveronica 2022-12-10 17:45:03   \n",
       "4   5  Instagram   smithmeghan 2022-12-10 01:45:03   \n",
       "\n",
       "                                           content  likes  comments  shares  \\\n",
       "0                     Scene six education society.     17        15      14   \n",
       "1           Practice people than help tend likely.    177         4      29   \n",
       "2  Daughter yes word risk shoulder evening nation.    279        39      24   \n",
       "3        All prove lot bit teacher election speak.     45        18      13   \n",
       "4    Those lawyer each sit sure organization stop.     12         6       9   \n",
       "\n",
       "   avg_count  len_content  \n",
       "0      15.33           28  \n",
       "1      70.00           38  \n",
       "2     114.00           47  \n",
       "3      25.33           41  \n",
       "4       9.00           45  "
      ]
     },
     "execution_count": 22,
     "metadata": {},
     "output_type": "execute_result"
    }
   ],
   "source": [
    "data['len_content'] = data['content'].apply(len)\n",
    "data.head()"
   ]
  },
  {
   "cell_type": "code",
   "execution_count": 23,
   "metadata": {},
   "outputs": [
    {
     "data": {
      "text/html": [
       "<div>\n",
       "<style scoped>\n",
       "    .dataframe tbody tr th:only-of-type {\n",
       "        vertical-align: middle;\n",
       "    }\n",
       "\n",
       "    .dataframe tbody tr th {\n",
       "        vertical-align: top;\n",
       "    }\n",
       "\n",
       "    .dataframe thead th {\n",
       "        text-align: right;\n",
       "    }\n",
       "</style>\n",
       "<table border=\"1\" class=\"dataframe\">\n",
       "  <thead>\n",
       "    <tr style=\"text-align: right;\">\n",
       "      <th></th>\n",
       "      <th>platform</th>\n",
       "      <th>len_content</th>\n",
       "      <th>likes</th>\n",
       "      <th>comments</th>\n",
       "      <th>shares</th>\n",
       "    </tr>\n",
       "  </thead>\n",
       "  <tbody>\n",
       "    <tr>\n",
       "      <th>0</th>\n",
       "      <td>Facebook</td>\n",
       "      <td>10</td>\n",
       "      <td>144.0</td>\n",
       "      <td>48.0</td>\n",
       "      <td>17.0</td>\n",
       "    </tr>\n",
       "    <tr>\n",
       "      <th>1</th>\n",
       "      <td>Facebook</td>\n",
       "      <td>12</td>\n",
       "      <td>23.0</td>\n",
       "      <td>25.0</td>\n",
       "      <td>16.0</td>\n",
       "    </tr>\n",
       "    <tr>\n",
       "      <th>2</th>\n",
       "      <td>Instagram</td>\n",
       "      <td>13</td>\n",
       "      <td>137.0</td>\n",
       "      <td>10.0</td>\n",
       "      <td>12.0</td>\n",
       "    </tr>\n",
       "    <tr>\n",
       "      <th>3</th>\n",
       "      <td>Facebook</td>\n",
       "      <td>13</td>\n",
       "      <td>187.0</td>\n",
       "      <td>28.0</td>\n",
       "      <td>2.0</td>\n",
       "    </tr>\n",
       "    <tr>\n",
       "      <th>4</th>\n",
       "      <td>Twitter</td>\n",
       "      <td>13</td>\n",
       "      <td>188.0</td>\n",
       "      <td>43.0</td>\n",
       "      <td>18.0</td>\n",
       "    </tr>\n",
       "    <tr>\n",
       "      <th>...</th>\n",
       "      <td>...</td>\n",
       "      <td>...</td>\n",
       "      <td>...</td>\n",
       "      <td>...</td>\n",
       "      <td>...</td>\n",
       "    </tr>\n",
       "    <tr>\n",
       "      <th>156</th>\n",
       "      <td>Twitter</td>\n",
       "      <td>66</td>\n",
       "      <td>39.0</td>\n",
       "      <td>22.0</td>\n",
       "      <td>11.0</td>\n",
       "    </tr>\n",
       "    <tr>\n",
       "      <th>157</th>\n",
       "      <td>Twitter</td>\n",
       "      <td>67</td>\n",
       "      <td>174.0</td>\n",
       "      <td>9.0</td>\n",
       "      <td>7.0</td>\n",
       "    </tr>\n",
       "    <tr>\n",
       "      <th>158</th>\n",
       "      <td>Instagram</td>\n",
       "      <td>67</td>\n",
       "      <td>201.0</td>\n",
       "      <td>11.0</td>\n",
       "      <td>16.0</td>\n",
       "    </tr>\n",
       "    <tr>\n",
       "      <th>159</th>\n",
       "      <td>Facebook</td>\n",
       "      <td>69</td>\n",
       "      <td>111.0</td>\n",
       "      <td>16.0</td>\n",
       "      <td>11.0</td>\n",
       "    </tr>\n",
       "    <tr>\n",
       "      <th>160</th>\n",
       "      <td>Twitter</td>\n",
       "      <td>73</td>\n",
       "      <td>54.0</td>\n",
       "      <td>3.0</td>\n",
       "      <td>10.0</td>\n",
       "    </tr>\n",
       "  </tbody>\n",
       "</table>\n",
       "<p>161 rows × 5 columns</p>\n",
       "</div>"
      ],
      "text/plain": [
       "      platform  len_content  likes  comments  shares\n",
       "0     Facebook           10  144.0      48.0    17.0\n",
       "1     Facebook           12   23.0      25.0    16.0\n",
       "2    Instagram           13  137.0      10.0    12.0\n",
       "3     Facebook           13  187.0      28.0     2.0\n",
       "4      Twitter           13  188.0      43.0    18.0\n",
       "..         ...          ...    ...       ...     ...\n",
       "156    Twitter           66   39.0      22.0    11.0\n",
       "157    Twitter           67  174.0       9.0     7.0\n",
       "158  Instagram           67  201.0      11.0    16.0\n",
       "159   Facebook           69  111.0      16.0    11.0\n",
       "160    Twitter           73   54.0       3.0    10.0\n",
       "\n",
       "[161 rows x 5 columns]"
      ]
     },
     "execution_count": 23,
     "metadata": {},
     "output_type": "execute_result"
    }
   ],
   "source": [
    "sum_col = \", \".join([f'SUM(\"{col}\") AS \"{col}\"' for col in data.iloc[:, 5:8]])\n",
    "\n",
    "e = query(f'''SELECT platform, len_content, {sum_col} FROM data \n",
    "            GROUP BY platform, len_content\n",
    "            ORDER BY len_content''')\n",
    "e"
   ]
  },
  {
   "cell_type": "code",
   "execution_count": 24,
   "metadata": {},
   "outputs": [
    {
     "data": {
      "application/vnd.plotly.v1+json": {
       "config": {
        "plotlyServerURL": "https://plot.ly"
       },
       "data": [
        {
         "alignmentgroup": "True",
         "customdata": [
          "Likes",
          "Likes",
          "Likes",
          "Likes",
          "Likes",
          "Likes",
          "Likes",
          "Likes",
          "Likes",
          "Likes",
          "Likes",
          "Likes",
          "Likes",
          "Likes",
          "Likes",
          "Likes",
          "Likes",
          "Likes",
          "Likes",
          "Likes",
          "Likes",
          "Likes",
          "Likes",
          "Likes",
          "Likes",
          "Likes",
          "Likes",
          "Likes",
          "Likes",
          "Likes",
          "Likes",
          "Likes",
          "Likes",
          "Likes",
          "Likes",
          "Likes",
          "Likes",
          "Likes",
          "Likes",
          "Likes",
          "Likes",
          "Likes",
          "Likes",
          "Likes",
          "Likes",
          "Likes",
          "Likes",
          "Likes",
          "Likes",
          "Likes",
          "Likes",
          "Likes",
          "Likes",
          "Likes",
          "Likes",
          "Comments",
          "Comments",
          "Comments",
          "Comments",
          "Comments",
          "Comments",
          "Comments",
          "Comments",
          "Comments",
          "Comments",
          "Comments",
          "Comments",
          "Comments",
          "Comments",
          "Comments",
          "Comments",
          "Comments",
          "Comments",
          "Comments",
          "Comments",
          "Comments",
          "Comments",
          "Comments",
          "Comments",
          "Comments",
          "Comments",
          "Comments",
          "Comments",
          "Comments",
          "Comments",
          "Comments",
          "Comments",
          "Comments",
          "Comments",
          "Comments",
          "Comments",
          "Comments",
          "Comments",
          "Comments",
          "Comments",
          "Comments",
          "Comments",
          "Comments",
          "Comments",
          "Comments",
          "Comments",
          "Comments",
          "Comments",
          "Comments",
          "Comments",
          "Comments",
          "Comments",
          "Comments",
          "Comments",
          "Comments",
          "Shares",
          "Shares",
          "Shares",
          "Shares",
          "Shares",
          "Shares",
          "Shares",
          "Shares",
          "Shares",
          "Shares",
          "Shares",
          "Shares",
          "Shares",
          "Shares",
          "Shares",
          "Shares",
          "Shares",
          "Shares",
          "Shares",
          "Shares",
          "Shares",
          "Shares",
          "Shares",
          "Shares",
          "Shares",
          "Shares",
          "Shares",
          "Shares",
          "Shares",
          "Shares",
          "Shares",
          "Shares",
          "Shares",
          "Shares",
          "Shares",
          "Shares",
          "Shares",
          "Shares",
          "Shares",
          "Shares",
          "Shares",
          "Shares",
          "Shares",
          "Shares",
          "Shares",
          "Shares",
          "Shares",
          "Shares",
          "Shares",
          "Shares",
          "Shares",
          "Shares",
          "Shares",
          "Shares",
          "Shares"
         ],
         "hovertemplate": "<br><b>Platform:</b> %{fullData.name}<br><b>Panjang Teks:</b> %{x}<br><b>Total Interaksi:</b> %{hovertext}<br><b>Type:</b> %{customdata}<br><b>Count:</b> %{y}",
         "hovertext": [
          209,
          64,
          217,
          560,
          788,
          345,
          2597,
          3220,
          2723,
          2023,
          3355,
          1904,
          4712,
          5349,
          5674,
          6400,
          4688,
          7932,
          7001,
          6169,
          5297,
          7395,
          6417,
          9844,
          5912,
          5967,
          6729,
          6664,
          6911,
          5145,
          6155,
          5744,
          6839,
          5405,
          5091,
          5304,
          3790,
          4234,
          2615,
          2938,
          3149,
          1612,
          1822,
          760,
          2121,
          1091,
          922,
          779,
          488,
          291,
          914,
          122,
          208,
          488,
          138,
          209,
          64,
          217,
          560,
          788,
          345,
          2597,
          3220,
          2723,
          2023,
          3355,
          1904,
          4712,
          5349,
          5674,
          6400,
          4688,
          7932,
          7001,
          6169,
          5297,
          7395,
          6417,
          9844,
          5912,
          5967,
          6729,
          6664,
          6911,
          5145,
          6155,
          5744,
          6839,
          5405,
          5091,
          5304,
          3790,
          4234,
          2615,
          2938,
          3149,
          1612,
          1822,
          760,
          2121,
          1091,
          922,
          779,
          488,
          291,
          914,
          122,
          208,
          488,
          138,
          209,
          64,
          217,
          560,
          788,
          345,
          2597,
          3220,
          2723,
          2023,
          3355,
          1904,
          4712,
          5349,
          5674,
          6400,
          4688,
          7932,
          7001,
          6169,
          5297,
          7395,
          6417,
          9844,
          5912,
          5967,
          6729,
          6664,
          6911,
          5145,
          6155,
          5744,
          6839,
          5405,
          5091,
          5304,
          3790,
          4234,
          2615,
          2938,
          3149,
          1612,
          1822,
          760,
          2121,
          1091,
          922,
          779,
          488,
          291,
          914,
          122,
          208,
          488,
          138
         ],
         "legendgroup": "Facebook",
         "marker": {
          "color": "#636efa",
          "pattern": {
           "shape": ""
          }
         },
         "name": "Facebook",
         "offsetgroup": "Facebook",
         "orientation": "v",
         "showlegend": true,
         "textposition": "auto",
         "type": "bar",
         "x": [
          10,
          12,
          13,
          14,
          15,
          16,
          17,
          18,
          19,
          20,
          21,
          22,
          23,
          24,
          25,
          26,
          27,
          28,
          29,
          30,
          31,
          32,
          33,
          34,
          35,
          36,
          37,
          38,
          39,
          40,
          41,
          42,
          43,
          44,
          45,
          46,
          47,
          48,
          49,
          50,
          51,
          52,
          53,
          54,
          55,
          56,
          57,
          58,
          59,
          60,
          61,
          62,
          63,
          64,
          69,
          10,
          12,
          13,
          14,
          15,
          16,
          17,
          18,
          19,
          20,
          21,
          22,
          23,
          24,
          25,
          26,
          27,
          28,
          29,
          30,
          31,
          32,
          33,
          34,
          35,
          36,
          37,
          38,
          39,
          40,
          41,
          42,
          43,
          44,
          45,
          46,
          47,
          48,
          49,
          50,
          51,
          52,
          53,
          54,
          55,
          56,
          57,
          58,
          59,
          60,
          61,
          62,
          63,
          64,
          69,
          10,
          12,
          13,
          14,
          15,
          16,
          17,
          18,
          19,
          20,
          21,
          22,
          23,
          24,
          25,
          26,
          27,
          28,
          29,
          30,
          31,
          32,
          33,
          34,
          35,
          36,
          37,
          38,
          39,
          40,
          41,
          42,
          43,
          44,
          45,
          46,
          47,
          48,
          49,
          50,
          51,
          52,
          53,
          54,
          55,
          56,
          57,
          58,
          59,
          60,
          61,
          62,
          63,
          64,
          69
         ],
         "xaxis": "x",
         "y": [
          144,
          23,
          187,
          447,
          620,
          178,
          1917,
          2569,
          2087,
          1578,
          2651,
          1461,
          3576,
          4391,
          4319,
          5174,
          3861,
          6455,
          5709,
          4963,
          4230,
          5862,
          4982,
          7776,
          4538,
          4682,
          5464,
          5137,
          5358,
          4016,
          5057,
          4569,
          5280,
          4250,
          3910,
          4088,
          2942,
          3481,
          2100,
          2350,
          2416,
          1217,
          1463,
          589,
          1783,
          903,
          644,
          624,
          371,
          267,
          780,
          110,
          162,
          424,
          111,
          48,
          25,
          28,
          85,
          98,
          81,
          400,
          418,
          328,
          281,
          430,
          279,
          714,
          614,
          831,
          708,
          544,
          973,
          830,
          711,
          700,
          900,
          961,
          1272,
          811,
          854,
          882,
          942,
          1007,
          765,
          685,
          779,
          940,
          737,
          673,
          815,
          555,
          513,
          287,
          348,
          493,
          259,
          250,
          114,
          208,
          111,
          155,
          88,
          80,
          11,
          65,
          2,
          45,
          29,
          16,
          17,
          16,
          2,
          28,
          70,
          86,
          280,
          233,
          308,
          164,
          274,
          164,
          422,
          344,
          524,
          518,
          283,
          504,
          462,
          495,
          367,
          633,
          474,
          796,
          563,
          431,
          383,
          585,
          546,
          364,
          413,
          396,
          619,
          418,
          508,
          401,
          293,
          240,
          228,
          240,
          240,
          136,
          109,
          57,
          130,
          77,
          123,
          67,
          37,
          13,
          69,
          10,
          1,
          35,
          11
         ],
         "yaxis": "y"
        },
        {
         "alignmentgroup": "True",
         "customdata": [
          "Likes",
          "Likes",
          "Likes",
          "Likes",
          "Likes",
          "Likes",
          "Likes",
          "Likes",
          "Likes",
          "Likes",
          "Likes",
          "Likes",
          "Likes",
          "Likes",
          "Likes",
          "Likes",
          "Likes",
          "Likes",
          "Likes",
          "Likes",
          "Likes",
          "Likes",
          "Likes",
          "Likes",
          "Likes",
          "Likes",
          "Likes",
          "Likes",
          "Likes",
          "Likes",
          "Likes",
          "Likes",
          "Likes",
          "Likes",
          "Likes",
          "Likes",
          "Likes",
          "Likes",
          "Likes",
          "Likes",
          "Likes",
          "Likes",
          "Likes",
          "Likes",
          "Likes",
          "Likes",
          "Likes",
          "Likes",
          "Likes",
          "Likes",
          "Likes",
          "Likes",
          "Likes",
          "Likes",
          "Likes",
          "Comments",
          "Comments",
          "Comments",
          "Comments",
          "Comments",
          "Comments",
          "Comments",
          "Comments",
          "Comments",
          "Comments",
          "Comments",
          "Comments",
          "Comments",
          "Comments",
          "Comments",
          "Comments",
          "Comments",
          "Comments",
          "Comments",
          "Comments",
          "Comments",
          "Comments",
          "Comments",
          "Comments",
          "Comments",
          "Comments",
          "Comments",
          "Comments",
          "Comments",
          "Comments",
          "Comments",
          "Comments",
          "Comments",
          "Comments",
          "Comments",
          "Comments",
          "Comments",
          "Comments",
          "Comments",
          "Comments",
          "Comments",
          "Comments",
          "Comments",
          "Comments",
          "Comments",
          "Comments",
          "Comments",
          "Comments",
          "Comments",
          "Comments",
          "Comments",
          "Comments",
          "Comments",
          "Comments",
          "Comments",
          "Shares",
          "Shares",
          "Shares",
          "Shares",
          "Shares",
          "Shares",
          "Shares",
          "Shares",
          "Shares",
          "Shares",
          "Shares",
          "Shares",
          "Shares",
          "Shares",
          "Shares",
          "Shares",
          "Shares",
          "Shares",
          "Shares",
          "Shares",
          "Shares",
          "Shares",
          "Shares",
          "Shares",
          "Shares",
          "Shares",
          "Shares",
          "Shares",
          "Shares",
          "Shares",
          "Shares",
          "Shares",
          "Shares",
          "Shares",
          "Shares",
          "Shares",
          "Shares",
          "Shares",
          "Shares",
          "Shares",
          "Shares",
          "Shares",
          "Shares",
          "Shares",
          "Shares",
          "Shares",
          "Shares",
          "Shares",
          "Shares",
          "Shares",
          "Shares",
          "Shares",
          "Shares",
          "Shares",
          "Shares"
         ],
         "hovertemplate": "<br><b>Platform:</b> %{fullData.name}<br><b>Panjang Teks:</b> %{x}<br><b>Total Interaksi:</b> %{hovertext}<br><b>Type:</b> %{customdata}<br><b>Count:</b> %{y}",
         "hovertext": [
          159,
          582,
          492,
          1701,
          3299,
          1655,
          3628,
          3098,
          2960,
          5250,
          4226,
          4880,
          4944,
          6698,
          4771,
          4816,
          5870,
          6478,
          5418,
          6341,
          6174,
          8057,
          6589,
          3736,
          6924,
          5345,
          6138,
          7440,
          6071,
          6461,
          3461,
          5184,
          5193,
          5528,
          3748,
          7167,
          2328,
          2541,
          3011,
          3299,
          3759,
          1439,
          2155,
          2010,
          2076,
          555,
          1333,
          487,
          612,
          340,
          94,
          228,
          159,
          582,
          492,
          1701,
          3299,
          1655,
          3628,
          3098,
          2960,
          5250,
          4226,
          4880,
          4944,
          6698,
          4771,
          4816,
          5870,
          6478,
          5418,
          6341,
          6174,
          8057,
          6589,
          3736,
          6924,
          5345,
          6138,
          7440,
          6071,
          6461,
          3461,
          5184,
          5193,
          5528,
          3748,
          7167,
          2328,
          2541,
          3011,
          3299,
          3759,
          1439,
          2155,
          2010,
          2076,
          555,
          1333,
          487,
          612,
          340,
          94,
          228,
          159,
          582,
          492,
          1701,
          3299,
          1655,
          3628,
          3098,
          2960,
          5250,
          4226,
          4880,
          4944,
          6698,
          4771,
          4816,
          5870,
          6478,
          5418,
          6341,
          6174,
          8057,
          6589,
          3736,
          6924,
          5345,
          6138,
          7440,
          6071,
          6461,
          3461,
          5184,
          5193,
          5528,
          3748,
          7167,
          2328,
          2541,
          3011,
          3299,
          3759,
          1439,
          2155,
          2010,
          2076,
          555,
          1333,
          487,
          612,
          340,
          94,
          228
         ],
         "legendgroup": "Instagram",
         "marker": {
          "color": "#EF553B",
          "pattern": {
           "shape": ""
          }
         },
         "name": "Instagram",
         "offsetgroup": "Instagram",
         "orientation": "v",
         "showlegend": true,
         "textposition": "auto",
         "type": "bar",
         "x": [
          13,
          14,
          15,
          16,
          17,
          18,
          19,
          20,
          21,
          22,
          23,
          24,
          25,
          26,
          27,
          28,
          29,
          30,
          31,
          32,
          33,
          34,
          35,
          36,
          37,
          38,
          39,
          40,
          41,
          42,
          43,
          44,
          45,
          46,
          47,
          48,
          49,
          50,
          51,
          52,
          53,
          54,
          55,
          56,
          57,
          58,
          59,
          60,
          62,
          63,
          64,
          67,
          13,
          14,
          15,
          16,
          17,
          18,
          19,
          20,
          21,
          22,
          23,
          24,
          25,
          26,
          27,
          28,
          29,
          30,
          31,
          32,
          33,
          34,
          35,
          36,
          37,
          38,
          39,
          40,
          41,
          42,
          43,
          44,
          45,
          46,
          47,
          48,
          49,
          50,
          51,
          52,
          53,
          54,
          55,
          56,
          57,
          58,
          59,
          60,
          62,
          63,
          64,
          67,
          13,
          14,
          15,
          16,
          17,
          18,
          19,
          20,
          21,
          22,
          23,
          24,
          25,
          26,
          27,
          28,
          29,
          30,
          31,
          32,
          33,
          34,
          35,
          36,
          37,
          38,
          39,
          40,
          41,
          42,
          43,
          44,
          45,
          46,
          47,
          48,
          49,
          50,
          51,
          52,
          53,
          54,
          55,
          56,
          57,
          58,
          59,
          60,
          62,
          63,
          64,
          67
         ],
         "xaxis": "x",
         "y": [
          137,
          490,
          350,
          1294,
          2646,
          1288,
          2869,
          2308,
          2344,
          4178,
          3120,
          3774,
          3661,
          5322,
          3815,
          3670,
          4461,
          4994,
          4219,
          5070,
          4786,
          6298,
          5351,
          2810,
          5401,
          4141,
          4900,
          5954,
          4781,
          5268,
          2752,
          4149,
          4013,
          4347,
          2894,
          5908,
          1624,
          2103,
          2474,
          2569,
          3121,
          1025,
          1716,
          1576,
          1757,
          460,
          921,
          405,
          487,
          314,
          33,
          201,
          10,
          81,
          87,
          276,
          373,
          231,
          510,
          438,
          368,
          694,
          617,
          673,
          836,
          892,
          595,
          690,
          936,
          975,
          812,
          725,
          855,
          1104,
          752,
          567,
          963,
          805,
          745,
          881,
          805,
          768,
          502,
          686,
          726,
          693,
          578,
          725,
          432,
          294,
          323,
          415,
          407,
          281,
          286,
          264,
          185,
          87,
          265,
          38,
          95,
          14,
          49,
          11,
          12,
          11,
          55,
          131,
          280,
          136,
          249,
          352,
          248,
          378,
          489,
          433,
          447,
          484,
          361,
          456,
          473,
          509,
          387,
          546,
          533,
          655,
          486,
          359,
          560,
          399,
          493,
          605,
          485,
          425,
          207,
          349,
          454,
          488,
          276,
          534,
          272,
          144,
          214,
          315,
          231,
          133,
          153,
          170,
          134,
          8,
          147,
          44,
          30,
          12,
          12,
          16
         ],
         "yaxis": "y"
        },
        {
         "alignmentgroup": "True",
         "customdata": [
          "Likes",
          "Likes",
          "Likes",
          "Likes",
          "Likes",
          "Likes",
          "Likes",
          "Likes",
          "Likes",
          "Likes",
          "Likes",
          "Likes",
          "Likes",
          "Likes",
          "Likes",
          "Likes",
          "Likes",
          "Likes",
          "Likes",
          "Likes",
          "Likes",
          "Likes",
          "Likes",
          "Likes",
          "Likes",
          "Likes",
          "Likes",
          "Likes",
          "Likes",
          "Likes",
          "Likes",
          "Likes",
          "Likes",
          "Likes",
          "Likes",
          "Likes",
          "Likes",
          "Likes",
          "Likes",
          "Likes",
          "Likes",
          "Likes",
          "Likes",
          "Likes",
          "Likes",
          "Likes",
          "Likes",
          "Likes",
          "Likes",
          "Likes",
          "Likes",
          "Likes",
          "Likes",
          "Likes",
          "Likes",
          "Comments",
          "Comments",
          "Comments",
          "Comments",
          "Comments",
          "Comments",
          "Comments",
          "Comments",
          "Comments",
          "Comments",
          "Comments",
          "Comments",
          "Comments",
          "Comments",
          "Comments",
          "Comments",
          "Comments",
          "Comments",
          "Comments",
          "Comments",
          "Comments",
          "Comments",
          "Comments",
          "Comments",
          "Comments",
          "Comments",
          "Comments",
          "Comments",
          "Comments",
          "Comments",
          "Comments",
          "Comments",
          "Comments",
          "Comments",
          "Comments",
          "Comments",
          "Comments",
          "Comments",
          "Comments",
          "Comments",
          "Comments",
          "Comments",
          "Comments",
          "Comments",
          "Comments",
          "Comments",
          "Comments",
          "Comments",
          "Comments",
          "Comments",
          "Comments",
          "Comments",
          "Comments",
          "Comments",
          "Comments",
          "Shares",
          "Shares",
          "Shares",
          "Shares",
          "Shares",
          "Shares",
          "Shares",
          "Shares",
          "Shares",
          "Shares",
          "Shares",
          "Shares",
          "Shares",
          "Shares",
          "Shares",
          "Shares",
          "Shares",
          "Shares",
          "Shares",
          "Shares",
          "Shares",
          "Shares",
          "Shares",
          "Shares",
          "Shares",
          "Shares",
          "Shares",
          "Shares",
          "Shares",
          "Shares",
          "Shares",
          "Shares",
          "Shares",
          "Shares",
          "Shares",
          "Shares",
          "Shares",
          "Shares",
          "Shares",
          "Shares",
          "Shares",
          "Shares",
          "Shares",
          "Shares",
          "Shares",
          "Shares",
          "Shares",
          "Shares",
          "Shares",
          "Shares",
          "Shares",
          "Shares",
          "Shares",
          "Shares",
          "Shares"
         ],
         "hovertemplate": "<br><b>Platform:</b> %{fullData.name}<br><b>Panjang Teks:</b> %{x}<br><b>Total Interaksi:</b> %{hovertext}<br><b>Type:</b> %{customdata}<br><b>Count:</b> %{y}",
         "hovertext": [
          249,
          967,
          1187,
          927,
          2140,
          1295,
          2974,
          2903,
          3752,
          4916,
          6785,
          4839,
          6838,
          6764,
          5499,
          4871,
          7150,
          4817,
          4821,
          7064,
          7833,
          6193,
          6721,
          5325,
          5275,
          6172,
          4843,
          5817,
          5426,
          4321,
          6777,
          7548,
          2877,
          4852,
          3202,
          4719,
          4135,
          1742,
          3156,
          2453,
          1564,
          2021,
          1638,
          1677,
          1587,
          2063,
          755,
          1447,
          410,
          875,
          178,
          72,
          190,
          67,
          249,
          967,
          1187,
          927,
          2140,
          1295,
          2974,
          2903,
          3752,
          4916,
          6785,
          4839,
          6838,
          6764,
          5499,
          4871,
          7150,
          4817,
          4821,
          7064,
          7833,
          6193,
          6721,
          5325,
          5275,
          6172,
          4843,
          5817,
          5426,
          4321,
          6777,
          7548,
          2877,
          4852,
          3202,
          4719,
          4135,
          1742,
          3156,
          2453,
          1564,
          2021,
          1638,
          1677,
          1587,
          2063,
          755,
          1447,
          410,
          875,
          178,
          72,
          190,
          67,
          249,
          967,
          1187,
          927,
          2140,
          1295,
          2974,
          2903,
          3752,
          4916,
          6785,
          4839,
          6838,
          6764,
          5499,
          4871,
          7150,
          4817,
          4821,
          7064,
          7833,
          6193,
          6721,
          5325,
          5275,
          6172,
          4843,
          5817,
          5426,
          4321,
          6777,
          7548,
          2877,
          4852,
          3202,
          4719,
          4135,
          1742,
          3156,
          2453,
          1564,
          2021,
          1638,
          1677,
          1587,
          2063,
          755,
          1447,
          410,
          875,
          178,
          72,
          190,
          67
         ],
         "legendgroup": "Twitter",
         "marker": {
          "color": "#00cc96",
          "pattern": {
           "shape": ""
          }
         },
         "name": "Twitter",
         "offsetgroup": "Twitter",
         "orientation": "v",
         "showlegend": true,
         "textposition": "auto",
         "type": "bar",
         "x": [
          13,
          14,
          15,
          16,
          17,
          18,
          19,
          20,
          21,
          22,
          23,
          24,
          25,
          26,
          27,
          28,
          29,
          30,
          31,
          32,
          33,
          34,
          35,
          36,
          37,
          38,
          39,
          40,
          41,
          42,
          43,
          44,
          45,
          46,
          47,
          48,
          49,
          50,
          51,
          52,
          53,
          54,
          55,
          56,
          57,
          58,
          59,
          60,
          61,
          62,
          63,
          66,
          67,
          73,
          13,
          14,
          15,
          16,
          17,
          18,
          19,
          20,
          21,
          22,
          23,
          24,
          25,
          26,
          27,
          28,
          29,
          30,
          31,
          32,
          33,
          34,
          35,
          36,
          37,
          38,
          39,
          40,
          41,
          42,
          43,
          44,
          45,
          46,
          47,
          48,
          49,
          50,
          51,
          52,
          53,
          54,
          55,
          56,
          57,
          58,
          59,
          60,
          61,
          62,
          63,
          66,
          67,
          73,
          13,
          14,
          15,
          16,
          17,
          18,
          19,
          20,
          21,
          22,
          23,
          24,
          25,
          26,
          27,
          28,
          29,
          30,
          31,
          32,
          33,
          34,
          35,
          36,
          37,
          38,
          39,
          40,
          41,
          42,
          43,
          44,
          45,
          46,
          47,
          48,
          49,
          50,
          51,
          52,
          53,
          54,
          55,
          56,
          57,
          58,
          59,
          60,
          61,
          62,
          63,
          66,
          67,
          73
         ],
         "xaxis": "x",
         "y": [
          188,
          749,
          980,
          775,
          1677,
          1000,
          2337,
          2334,
          2935,
          4071,
          5399,
          3723,
          5531,
          5503,
          4405,
          3881,
          5472,
          3833,
          3619,
          5532,
          6338,
          5019,
          5368,
          4290,
          4030,
          4973,
          3907,
          4967,
          4326,
          3588,
          5412,
          6054,
          2227,
          4009,
          2482,
          3695,
          3343,
          1284,
          2456,
          1785,
          1238,
          1534,
          1395,
          1373,
          1321,
          1735,
          626,
          1229,
          283,
          734,
          170,
          39,
          174,
          54,
          43,
          148,
          139,
          92,
          303,
          136,
          398,
          315,
          493,
          522,
          870,
          639,
          766,
          738,
          674,
          609,
          1083,
          597,
          778,
          928,
          950,
          708,
          892,
          644,
          763,
          732,
          525,
          477,
          684,
          420,
          836,
          925,
          478,
          527,
          463,
          668,
          481,
          333,
          488,
          412,
          154,
          352,
          144,
          178,
          146,
          215,
          96,
          93,
          72,
          96,
          3,
          22,
          9,
          3,
          18,
          70,
          68,
          60,
          160,
          159,
          239,
          254,
          324,
          323,
          516,
          477,
          541,
          523,
          420,
          381,
          595,
          387,
          424,
          604,
          545,
          466,
          461,
          391,
          482,
          467,
          411,
          373,
          416,
          313,
          529,
          569,
          172,
          316,
          257,
          356,
          311,
          125,
          212,
          256,
          172,
          135,
          99,
          126,
          120,
          113,
          33,
          125,
          55,
          45,
          5,
          11,
          7,
          10
         ],
         "yaxis": "y"
        }
       ],
       "layout": {
        "barmode": "group",
        "legend": {
         "title": {
          "text": "Platform"
         },
         "tracegroupgap": 0
        },
        "template": {
         "data": {
          "bar": [
           {
            "error_x": {
             "color": "#2a3f5f"
            },
            "error_y": {
             "color": "#2a3f5f"
            },
            "marker": {
             "line": {
              "color": "#E5ECF6",
              "width": 0.5
             },
             "pattern": {
              "fillmode": "overlay",
              "size": 10,
              "solidity": 0.2
             }
            },
            "type": "bar"
           }
          ],
          "barpolar": [
           {
            "marker": {
             "line": {
              "color": "#E5ECF6",
              "width": 0.5
             },
             "pattern": {
              "fillmode": "overlay",
              "size": 10,
              "solidity": 0.2
             }
            },
            "type": "barpolar"
           }
          ],
          "carpet": [
           {
            "aaxis": {
             "endlinecolor": "#2a3f5f",
             "gridcolor": "white",
             "linecolor": "white",
             "minorgridcolor": "white",
             "startlinecolor": "#2a3f5f"
            },
            "baxis": {
             "endlinecolor": "#2a3f5f",
             "gridcolor": "white",
             "linecolor": "white",
             "minorgridcolor": "white",
             "startlinecolor": "#2a3f5f"
            },
            "type": "carpet"
           }
          ],
          "choropleth": [
           {
            "colorbar": {
             "outlinewidth": 0,
             "ticks": ""
            },
            "type": "choropleth"
           }
          ],
          "contour": [
           {
            "colorbar": {
             "outlinewidth": 0,
             "ticks": ""
            },
            "colorscale": [
             [
              0,
              "#0d0887"
             ],
             [
              0.1111111111111111,
              "#46039f"
             ],
             [
              0.2222222222222222,
              "#7201a8"
             ],
             [
              0.3333333333333333,
              "#9c179e"
             ],
             [
              0.4444444444444444,
              "#bd3786"
             ],
             [
              0.5555555555555556,
              "#d8576b"
             ],
             [
              0.6666666666666666,
              "#ed7953"
             ],
             [
              0.7777777777777778,
              "#fb9f3a"
             ],
             [
              0.8888888888888888,
              "#fdca26"
             ],
             [
              1,
              "#f0f921"
             ]
            ],
            "type": "contour"
           }
          ],
          "contourcarpet": [
           {
            "colorbar": {
             "outlinewidth": 0,
             "ticks": ""
            },
            "type": "contourcarpet"
           }
          ],
          "heatmap": [
           {
            "colorbar": {
             "outlinewidth": 0,
             "ticks": ""
            },
            "colorscale": [
             [
              0,
              "#0d0887"
             ],
             [
              0.1111111111111111,
              "#46039f"
             ],
             [
              0.2222222222222222,
              "#7201a8"
             ],
             [
              0.3333333333333333,
              "#9c179e"
             ],
             [
              0.4444444444444444,
              "#bd3786"
             ],
             [
              0.5555555555555556,
              "#d8576b"
             ],
             [
              0.6666666666666666,
              "#ed7953"
             ],
             [
              0.7777777777777778,
              "#fb9f3a"
             ],
             [
              0.8888888888888888,
              "#fdca26"
             ],
             [
              1,
              "#f0f921"
             ]
            ],
            "type": "heatmap"
           }
          ],
          "heatmapgl": [
           {
            "colorbar": {
             "outlinewidth": 0,
             "ticks": ""
            },
            "colorscale": [
             [
              0,
              "#0d0887"
             ],
             [
              0.1111111111111111,
              "#46039f"
             ],
             [
              0.2222222222222222,
              "#7201a8"
             ],
             [
              0.3333333333333333,
              "#9c179e"
             ],
             [
              0.4444444444444444,
              "#bd3786"
             ],
             [
              0.5555555555555556,
              "#d8576b"
             ],
             [
              0.6666666666666666,
              "#ed7953"
             ],
             [
              0.7777777777777778,
              "#fb9f3a"
             ],
             [
              0.8888888888888888,
              "#fdca26"
             ],
             [
              1,
              "#f0f921"
             ]
            ],
            "type": "heatmapgl"
           }
          ],
          "histogram": [
           {
            "marker": {
             "pattern": {
              "fillmode": "overlay",
              "size": 10,
              "solidity": 0.2
             }
            },
            "type": "histogram"
           }
          ],
          "histogram2d": [
           {
            "colorbar": {
             "outlinewidth": 0,
             "ticks": ""
            },
            "colorscale": [
             [
              0,
              "#0d0887"
             ],
             [
              0.1111111111111111,
              "#46039f"
             ],
             [
              0.2222222222222222,
              "#7201a8"
             ],
             [
              0.3333333333333333,
              "#9c179e"
             ],
             [
              0.4444444444444444,
              "#bd3786"
             ],
             [
              0.5555555555555556,
              "#d8576b"
             ],
             [
              0.6666666666666666,
              "#ed7953"
             ],
             [
              0.7777777777777778,
              "#fb9f3a"
             ],
             [
              0.8888888888888888,
              "#fdca26"
             ],
             [
              1,
              "#f0f921"
             ]
            ],
            "type": "histogram2d"
           }
          ],
          "histogram2dcontour": [
           {
            "colorbar": {
             "outlinewidth": 0,
             "ticks": ""
            },
            "colorscale": [
             [
              0,
              "#0d0887"
             ],
             [
              0.1111111111111111,
              "#46039f"
             ],
             [
              0.2222222222222222,
              "#7201a8"
             ],
             [
              0.3333333333333333,
              "#9c179e"
             ],
             [
              0.4444444444444444,
              "#bd3786"
             ],
             [
              0.5555555555555556,
              "#d8576b"
             ],
             [
              0.6666666666666666,
              "#ed7953"
             ],
             [
              0.7777777777777778,
              "#fb9f3a"
             ],
             [
              0.8888888888888888,
              "#fdca26"
             ],
             [
              1,
              "#f0f921"
             ]
            ],
            "type": "histogram2dcontour"
           }
          ],
          "mesh3d": [
           {
            "colorbar": {
             "outlinewidth": 0,
             "ticks": ""
            },
            "type": "mesh3d"
           }
          ],
          "parcoords": [
           {
            "line": {
             "colorbar": {
              "outlinewidth": 0,
              "ticks": ""
             }
            },
            "type": "parcoords"
           }
          ],
          "pie": [
           {
            "automargin": true,
            "type": "pie"
           }
          ],
          "scatter": [
           {
            "fillpattern": {
             "fillmode": "overlay",
             "size": 10,
             "solidity": 0.2
            },
            "type": "scatter"
           }
          ],
          "scatter3d": [
           {
            "line": {
             "colorbar": {
              "outlinewidth": 0,
              "ticks": ""
             }
            },
            "marker": {
             "colorbar": {
              "outlinewidth": 0,
              "ticks": ""
             }
            },
            "type": "scatter3d"
           }
          ],
          "scattercarpet": [
           {
            "marker": {
             "colorbar": {
              "outlinewidth": 0,
              "ticks": ""
             }
            },
            "type": "scattercarpet"
           }
          ],
          "scattergeo": [
           {
            "marker": {
             "colorbar": {
              "outlinewidth": 0,
              "ticks": ""
             }
            },
            "type": "scattergeo"
           }
          ],
          "scattergl": [
           {
            "marker": {
             "colorbar": {
              "outlinewidth": 0,
              "ticks": ""
             }
            },
            "type": "scattergl"
           }
          ],
          "scattermapbox": [
           {
            "marker": {
             "colorbar": {
              "outlinewidth": 0,
              "ticks": ""
             }
            },
            "type": "scattermapbox"
           }
          ],
          "scatterpolar": [
           {
            "marker": {
             "colorbar": {
              "outlinewidth": 0,
              "ticks": ""
             }
            },
            "type": "scatterpolar"
           }
          ],
          "scatterpolargl": [
           {
            "marker": {
             "colorbar": {
              "outlinewidth": 0,
              "ticks": ""
             }
            },
            "type": "scatterpolargl"
           }
          ],
          "scatterternary": [
           {
            "marker": {
             "colorbar": {
              "outlinewidth": 0,
              "ticks": ""
             }
            },
            "type": "scatterternary"
           }
          ],
          "surface": [
           {
            "colorbar": {
             "outlinewidth": 0,
             "ticks": ""
            },
            "colorscale": [
             [
              0,
              "#0d0887"
             ],
             [
              0.1111111111111111,
              "#46039f"
             ],
             [
              0.2222222222222222,
              "#7201a8"
             ],
             [
              0.3333333333333333,
              "#9c179e"
             ],
             [
              0.4444444444444444,
              "#bd3786"
             ],
             [
              0.5555555555555556,
              "#d8576b"
             ],
             [
              0.6666666666666666,
              "#ed7953"
             ],
             [
              0.7777777777777778,
              "#fb9f3a"
             ],
             [
              0.8888888888888888,
              "#fdca26"
             ],
             [
              1,
              "#f0f921"
             ]
            ],
            "type": "surface"
           }
          ],
          "table": [
           {
            "cells": {
             "fill": {
              "color": "#EBF0F8"
             },
             "line": {
              "color": "white"
             }
            },
            "header": {
             "fill": {
              "color": "#C8D4E3"
             },
             "line": {
              "color": "white"
             }
            },
            "type": "table"
           }
          ]
         },
         "layout": {
          "annotationdefaults": {
           "arrowcolor": "#2a3f5f",
           "arrowhead": 0,
           "arrowwidth": 1
          },
          "autotypenumbers": "strict",
          "coloraxis": {
           "colorbar": {
            "outlinewidth": 0,
            "ticks": ""
           }
          },
          "colorscale": {
           "diverging": [
            [
             0,
             "#8e0152"
            ],
            [
             0.1,
             "#c51b7d"
            ],
            [
             0.2,
             "#de77ae"
            ],
            [
             0.3,
             "#f1b6da"
            ],
            [
             0.4,
             "#fde0ef"
            ],
            [
             0.5,
             "#f7f7f7"
            ],
            [
             0.6,
             "#e6f5d0"
            ],
            [
             0.7,
             "#b8e186"
            ],
            [
             0.8,
             "#7fbc41"
            ],
            [
             0.9,
             "#4d9221"
            ],
            [
             1,
             "#276419"
            ]
           ],
           "sequential": [
            [
             0,
             "#0d0887"
            ],
            [
             0.1111111111111111,
             "#46039f"
            ],
            [
             0.2222222222222222,
             "#7201a8"
            ],
            [
             0.3333333333333333,
             "#9c179e"
            ],
            [
             0.4444444444444444,
             "#bd3786"
            ],
            [
             0.5555555555555556,
             "#d8576b"
            ],
            [
             0.6666666666666666,
             "#ed7953"
            ],
            [
             0.7777777777777778,
             "#fb9f3a"
            ],
            [
             0.8888888888888888,
             "#fdca26"
            ],
            [
             1,
             "#f0f921"
            ]
           ],
           "sequentialminus": [
            [
             0,
             "#0d0887"
            ],
            [
             0.1111111111111111,
             "#46039f"
            ],
            [
             0.2222222222222222,
             "#7201a8"
            ],
            [
             0.3333333333333333,
             "#9c179e"
            ],
            [
             0.4444444444444444,
             "#bd3786"
            ],
            [
             0.5555555555555556,
             "#d8576b"
            ],
            [
             0.6666666666666666,
             "#ed7953"
            ],
            [
             0.7777777777777778,
             "#fb9f3a"
            ],
            [
             0.8888888888888888,
             "#fdca26"
            ],
            [
             1,
             "#f0f921"
            ]
           ]
          },
          "colorway": [
           "#636efa",
           "#EF553B",
           "#00cc96",
           "#ab63fa",
           "#FFA15A",
           "#19d3f3",
           "#FF6692",
           "#B6E880",
           "#FF97FF",
           "#FECB52"
          ],
          "font": {
           "color": "#2a3f5f"
          },
          "geo": {
           "bgcolor": "white",
           "lakecolor": "white",
           "landcolor": "#E5ECF6",
           "showlakes": true,
           "showland": true,
           "subunitcolor": "white"
          },
          "hoverlabel": {
           "align": "left"
          },
          "hovermode": "closest",
          "mapbox": {
           "style": "light"
          },
          "paper_bgcolor": "white",
          "plot_bgcolor": "#E5ECF6",
          "polar": {
           "angularaxis": {
            "gridcolor": "white",
            "linecolor": "white",
            "ticks": ""
           },
           "bgcolor": "#E5ECF6",
           "radialaxis": {
            "gridcolor": "white",
            "linecolor": "white",
            "ticks": ""
           }
          },
          "scene": {
           "xaxis": {
            "backgroundcolor": "#E5ECF6",
            "gridcolor": "white",
            "gridwidth": 2,
            "linecolor": "white",
            "showbackground": true,
            "ticks": "",
            "zerolinecolor": "white"
           },
           "yaxis": {
            "backgroundcolor": "#E5ECF6",
            "gridcolor": "white",
            "gridwidth": 2,
            "linecolor": "white",
            "showbackground": true,
            "ticks": "",
            "zerolinecolor": "white"
           },
           "zaxis": {
            "backgroundcolor": "#E5ECF6",
            "gridcolor": "white",
            "gridwidth": 2,
            "linecolor": "white",
            "showbackground": true,
            "ticks": "",
            "zerolinecolor": "white"
           }
          },
          "shapedefaults": {
           "line": {
            "color": "#2a3f5f"
           }
          },
          "ternary": {
           "aaxis": {
            "gridcolor": "white",
            "linecolor": "white",
            "ticks": ""
           },
           "baxis": {
            "gridcolor": "white",
            "linecolor": "white",
            "ticks": ""
           },
           "bgcolor": "#E5ECF6",
           "caxis": {
            "gridcolor": "white",
            "linecolor": "white",
            "ticks": ""
           }
          },
          "title": {
           "x": 0.05
          },
          "xaxis": {
           "automargin": true,
           "gridcolor": "white",
           "linecolor": "white",
           "ticks": "",
           "title": {
            "standoff": 15
           },
           "zerolinecolor": "white",
           "zerolinewidth": 2
          },
          "yaxis": {
           "automargin": true,
           "gridcolor": "white",
           "linecolor": "white",
           "ticks": "",
           "title": {
            "standoff": 15
           },
           "zerolinecolor": "white",
           "zerolinewidth": 2
          }
         }
        },
        "title": {
         "text": "Korelasi Panjang Teks Postingan dengan Jumlah Interaksi"
        },
        "xaxis": {
         "anchor": "y",
         "domain": [
          0,
          1
         ],
         "title": {
          "text": "Panjang Teks"
         }
        },
        "yaxis": {
         "anchor": "x",
         "domain": [
          0,
          1
         ],
         "title": {
          "text": "Jumlah"
         }
        }
       }
      }
     },
     "metadata": {},
     "output_type": "display_data"
    }
   ],
   "source": [
    "grouped = e.groupby(['len_content', 'platform'])[['likes', 'comments', 'shares']].sum().reset_index()\n",
    "grouped['total'] = grouped[['likes', 'comments', 'shares']].sum(axis=1)\n",
    "\n",
    "fig = px.bar(\n",
    "    grouped, \n",
    "    x='len_content', \n",
    "    y=['likes', 'comments', 'shares'], \n",
    "    color='platform',\n",
    "    hover_name='total',\n",
    "    title='Korelasi Panjang Teks Postingan dengan Jumlah Interaksi',\n",
    "    barmode='group')\n",
    "\n",
    "fig.update_traces(\n",
    "    customdata=['Likes'] * 55 + ['Comments'] * 55 + ['Shares'] * 55,\n",
    "    hovertemplate=\"<br><b>Platform:</b> %{fullData.name}\"\n",
    "                  \"<br><b>Panjang Teks:</b> %{x}\"\n",
    "                  \"<br><b>Total Interaksi:</b> %{hovertext}\"\n",
    "                  \"<br><b>Type:</b> %{customdata}\"\n",
    "                  \"<br><b>Count:</b> %{y}\")\n",
    "\n",
    "fig.update_layout(\n",
    "    xaxis_title='Panjang Teks',\n",
    "    yaxis_title='Jumlah',\n",
    "    legend_title='Platform')\n",
    "\n",
    "fig.show()"
   ]
  },
  {
   "cell_type": "code",
   "execution_count": 25,
   "metadata": {},
   "outputs": [
    {
     "data": {
      "image/png": "[encoded data removed]",
      "text/plain": [
       "<Figure size 1800x600 with 2 Axes>"
      ]
     },
     "metadata": {},
     "output_type": "display_data"
    }
   ],
   "source": [
    "#untuk mengetahui jumlah postingan yang dilakukan berdasarkan panjang teks\n",
    "grouped = data[['platform', 'len_content']].value_counts().reset_index(name='frequency')\n",
    "\n",
    "pivot_df = grouped.pivot_table(index='len_content', columns='platform', values='frequency', fill_value=0)\n",
    "\n",
    "fig, (ax1, ax2) = plt.subplots(2, 1, figsize=(18, 6))\n",
    "\n",
    "grafik_2('Non-Stacked', ax1, False, 'Panjang Teks', 'Frekuensi', pivot_df.index)\n",
    "\n",
    "grafik_2('Stacked', ax2, True, 'Panjang Teks', 'Frekuensi', pivot_df.index)\n",
    "\n",
    "plt.suptitle('Frekuensi Panjang Teks pada Postingan', fontsize=20)\n",
    "plt.tight_layout()\n",
    "plt.show()"
   ]
  },
  {
   "cell_type": "markdown",
   "metadata": {},
   "source": [
    "User dengan Aktivitas Tertinggi -> untuk mengetahui user yang memiliki pengaruh dalam jaringan sosial"
   ]
  },
  {
   "cell_type": "code",
   "execution_count": 26,
   "metadata": {},
   "outputs": [
    {
     "data": {
      "text/html": [
       "<div>\n",
       "<style scoped>\n",
       "    .dataframe tbody tr th:only-of-type {\n",
       "        vertical-align: middle;\n",
       "    }\n",
       "\n",
       "    .dataframe tbody tr th {\n",
       "        vertical-align: top;\n",
       "    }\n",
       "\n",
       "    .dataframe thead th {\n",
       "        text-align: right;\n",
       "    }\n",
       "</style>\n",
       "<table border=\"1\" class=\"dataframe\">\n",
       "  <thead>\n",
       "    <tr style=\"text-align: right;\">\n",
       "      <th></th>\n",
       "      <th>id</th>\n",
       "      <th>platform</th>\n",
       "      <th>username</th>\n",
       "      <th>post_date</th>\n",
       "      <th>content</th>\n",
       "      <th>likes</th>\n",
       "      <th>comments</th>\n",
       "      <th>shares</th>\n",
       "      <th>avg_count</th>\n",
       "      <th>len_content</th>\n",
       "      <th>total</th>\n",
       "    </tr>\n",
       "  </thead>\n",
       "  <tbody>\n",
       "    <tr>\n",
       "      <th>2683</th>\n",
       "      <td>2684</td>\n",
       "      <td>Instagram</td>\n",
       "      <td>kelly31</td>\n",
       "      <td>2023-05-06 15:45:03</td>\n",
       "      <td>Produce institution list degree.</td>\n",
       "      <td>296</td>\n",
       "      <td>45</td>\n",
       "      <td>30</td>\n",
       "      <td>123.67</td>\n",
       "      <td>32</td>\n",
       "      <td>371</td>\n",
       "    </tr>\n",
       "    <tr>\n",
       "      <th>2939</th>\n",
       "      <td>2940</td>\n",
       "      <td>Instagram</td>\n",
       "      <td>carl60</td>\n",
       "      <td>2023-11-13 16:45:03</td>\n",
       "      <td>Indeed national near forward.</td>\n",
       "      <td>299</td>\n",
       "      <td>50</td>\n",
       "      <td>22</td>\n",
       "      <td>123.67</td>\n",
       "      <td>29</td>\n",
       "      <td>371</td>\n",
       "    </tr>\n",
       "    <tr>\n",
       "      <th>2555</th>\n",
       "      <td>2556</td>\n",
       "      <td>Facebook</td>\n",
       "      <td>randymeyers</td>\n",
       "      <td>2022-12-14 18:45:03</td>\n",
       "      <td>Next short history forward suggest gas.</td>\n",
       "      <td>299</td>\n",
       "      <td>44</td>\n",
       "      <td>27</td>\n",
       "      <td>123.33</td>\n",
       "      <td>39</td>\n",
       "      <td>370</td>\n",
       "    </tr>\n",
       "    <tr>\n",
       "      <th>2486</th>\n",
       "      <td>2487</td>\n",
       "      <td>Twitter</td>\n",
       "      <td>josephmaxwell</td>\n",
       "      <td>2023-04-21 07:45:03</td>\n",
       "      <td>Break get look lead.</td>\n",
       "      <td>290</td>\n",
       "      <td>48</td>\n",
       "      <td>30</td>\n",
       "      <td>122.67</td>\n",
       "      <td>20</td>\n",
       "      <td>368</td>\n",
       "    </tr>\n",
       "    <tr>\n",
       "      <th>1317</th>\n",
       "      <td>1318</td>\n",
       "      <td>Instagram</td>\n",
       "      <td>bbell</td>\n",
       "      <td>2023-11-02 12:45:03</td>\n",
       "      <td>Thousand wide matter.</td>\n",
       "      <td>299</td>\n",
       "      <td>42</td>\n",
       "      <td>25</td>\n",
       "      <td>122.00</td>\n",
       "      <td>21</td>\n",
       "      <td>366</td>\n",
       "    </tr>\n",
       "    <tr>\n",
       "      <th>...</th>\n",
       "      <td>...</td>\n",
       "      <td>...</td>\n",
       "      <td>...</td>\n",
       "      <td>...</td>\n",
       "      <td>...</td>\n",
       "      <td>...</td>\n",
       "      <td>...</td>\n",
       "      <td>...</td>\n",
       "      <td>...</td>\n",
       "      <td>...</td>\n",
       "      <td>...</td>\n",
       "    </tr>\n",
       "    <tr>\n",
       "      <th>1435</th>\n",
       "      <td>1436</td>\n",
       "      <td>Twitter</td>\n",
       "      <td>fnorris</td>\n",
       "      <td>2023-04-15 22:45:03</td>\n",
       "      <td>No animal after travel sea theory.</td>\n",
       "      <td>10</td>\n",
       "      <td>10</td>\n",
       "      <td>7</td>\n",
       "      <td>9.00</td>\n",
       "      <td>34</td>\n",
       "      <td>27</td>\n",
       "    </tr>\n",
       "    <tr>\n",
       "      <th>4</th>\n",
       "      <td>5</td>\n",
       "      <td>Instagram</td>\n",
       "      <td>smithmeghan</td>\n",
       "      <td>2022-12-10 01:45:03</td>\n",
       "      <td>Those lawyer each sit sure organization stop.</td>\n",
       "      <td>12</td>\n",
       "      <td>6</td>\n",
       "      <td>9</td>\n",
       "      <td>9.00</td>\n",
       "      <td>45</td>\n",
       "      <td>27</td>\n",
       "    </tr>\n",
       "    <tr>\n",
       "      <th>1347</th>\n",
       "      <td>1348</td>\n",
       "      <td>Instagram</td>\n",
       "      <td>erikabrown</td>\n",
       "      <td>2023-03-15 15:45:03</td>\n",
       "      <td>Compare hotel partner difficult.</td>\n",
       "      <td>12</td>\n",
       "      <td>9</td>\n",
       "      <td>5</td>\n",
       "      <td>8.67</td>\n",
       "      <td>32</td>\n",
       "      <td>26</td>\n",
       "    </tr>\n",
       "    <tr>\n",
       "      <th>2181</th>\n",
       "      <td>2182</td>\n",
       "      <td>Instagram</td>\n",
       "      <td>millerheather</td>\n",
       "      <td>2023-02-07 15:45:03</td>\n",
       "      <td>Think contain risk daughter from least.</td>\n",
       "      <td>10</td>\n",
       "      <td>8</td>\n",
       "      <td>4</td>\n",
       "      <td>7.33</td>\n",
       "      <td>39</td>\n",
       "      <td>22</td>\n",
       "    </tr>\n",
       "    <tr>\n",
       "      <th>1326</th>\n",
       "      <td>1327</td>\n",
       "      <td>Twitter</td>\n",
       "      <td>stevenwalton</td>\n",
       "      <td>2023-05-06 22:45:03</td>\n",
       "      <td>Attack energy financial shoulder.</td>\n",
       "      <td>16</td>\n",
       "      <td>1</td>\n",
       "      <td>1</td>\n",
       "      <td>6.00</td>\n",
       "      <td>33</td>\n",
       "      <td>18</td>\n",
       "    </tr>\n",
       "  </tbody>\n",
       "</table>\n",
       "<p>3000 rows × 11 columns</p>\n",
       "</div>"
      ],
      "text/plain": [
       "        id   platform       username           post_date  \\\n",
       "2683  2684  Instagram        kelly31 2023-05-06 15:45:03   \n",
       "2939  2940  Instagram         carl60 2023-11-13 16:45:03   \n",
       "2555  2556   Facebook    randymeyers 2022-12-14 18:45:03   \n",
       "2486  2487    Twitter  josephmaxwell 2023-04-21 07:45:03   \n",
       "1317  1318  Instagram          bbell 2023-11-02 12:45:03   \n",
       "...    ...        ...            ...                 ...   \n",
       "1435  1436    Twitter        fnorris 2023-04-15 22:45:03   \n",
       "4        5  Instagram    smithmeghan 2022-12-10 01:45:03   \n",
       "1347  1348  Instagram     erikabrown 2023-03-15 15:45:03   \n",
       "2181  2182  Instagram  millerheather 2023-02-07 15:45:03   \n",
       "1326  1327    Twitter   stevenwalton 2023-05-06 22:45:03   \n",
       "\n",
       "                                            content  likes  comments  shares  \\\n",
       "2683               Produce institution list degree.    296        45      30   \n",
       "2939                  Indeed national near forward.    299        50      22   \n",
       "2555        Next short history forward suggest gas.    299        44      27   \n",
       "2486                           Break get look lead.    290        48      30   \n",
       "1317                          Thousand wide matter.    299        42      25   \n",
       "...                                             ...    ...       ...     ...   \n",
       "1435             No animal after travel sea theory.     10        10       7   \n",
       "4     Those lawyer each sit sure organization stop.     12         6       9   \n",
       "1347               Compare hotel partner difficult.     12         9       5   \n",
       "2181        Think contain risk daughter from least.     10         8       4   \n",
       "1326              Attack energy financial shoulder.     16         1       1   \n",
       "\n",
       "      avg_count  len_content  total  \n",
       "2683     123.67           32    371  \n",
       "2939     123.67           29    371  \n",
       "2555     123.33           39    370  \n",
       "2486     122.67           20    368  \n",
       "1317     122.00           21    366  \n",
       "...         ...          ...    ...  \n",
       "1435       9.00           34     27  \n",
       "4          9.00           45     27  \n",
       "1347       8.67           32     26  \n",
       "2181       7.33           39     22  \n",
       "1326       6.00           33     18  \n",
       "\n",
       "[3000 rows x 11 columns]"
      ]
     },
     "execution_count": 26,
     "metadata": {},
     "output_type": "execute_result"
    }
   ],
   "source": [
    "data['total'] = data[['likes', 'comments', 'shares']].sum(axis=1)\n",
    "data.sort_values(by='total', ascending=False)"
   ]
  },
  {
   "cell_type": "code",
   "execution_count": 27,
   "metadata": {},
   "outputs": [
    {
     "data": {
      "text/html": [
       "<div>\n",
       "<style scoped>\n",
       "    .dataframe tbody tr th:only-of-type {\n",
       "        vertical-align: middle;\n",
       "    }\n",
       "\n",
       "    .dataframe tbody tr th {\n",
       "        vertical-align: top;\n",
       "    }\n",
       "\n",
       "    .dataframe thead th {\n",
       "        text-align: right;\n",
       "    }\n",
       "</style>\n",
       "<table border=\"1\" class=\"dataframe\">\n",
       "  <thead>\n",
       "    <tr style=\"text-align: right;\">\n",
       "      <th></th>\n",
       "      <th>platform</th>\n",
       "      <th>username</th>\n",
       "      <th>user_count</th>\n",
       "      <th>likes</th>\n",
       "      <th>comments</th>\n",
       "      <th>shares</th>\n",
       "      <th>avg_count</th>\n",
       "      <th>len_content</th>\n",
       "      <th>total</th>\n",
       "    </tr>\n",
       "  </thead>\n",
       "  <tbody>\n",
       "    <tr>\n",
       "      <th>0</th>\n",
       "      <td>Instagram</td>\n",
       "      <td>jenniferbrown</td>\n",
       "      <td>2</td>\n",
       "      <td>546.0</td>\n",
       "      <td>74.0</td>\n",
       "      <td>28.0</td>\n",
       "      <td>216.00</td>\n",
       "      <td>74.0</td>\n",
       "      <td>648.0</td>\n",
       "    </tr>\n",
       "    <tr>\n",
       "      <th>1</th>\n",
       "      <td>Facebook</td>\n",
       "      <td>qwhite</td>\n",
       "      <td>2</td>\n",
       "      <td>482.0</td>\n",
       "      <td>75.0</td>\n",
       "      <td>6.0</td>\n",
       "      <td>187.67</td>\n",
       "      <td>61.0</td>\n",
       "      <td>563.0</td>\n",
       "    </tr>\n",
       "    <tr>\n",
       "      <th>2</th>\n",
       "      <td>Twitter</td>\n",
       "      <td>johnsonmichael</td>\n",
       "      <td>3</td>\n",
       "      <td>466.0</td>\n",
       "      <td>35.0</td>\n",
       "      <td>59.0</td>\n",
       "      <td>186.66</td>\n",
       "      <td>107.0</td>\n",
       "      <td>560.0</td>\n",
       "    </tr>\n",
       "    <tr>\n",
       "      <th>3</th>\n",
       "      <td>Twitter</td>\n",
       "      <td>brewersarah</td>\n",
       "      <td>2</td>\n",
       "      <td>394.0</td>\n",
       "      <td>58.0</td>\n",
       "      <td>29.0</td>\n",
       "      <td>160.33</td>\n",
       "      <td>59.0</td>\n",
       "      <td>481.0</td>\n",
       "    </tr>\n",
       "    <tr>\n",
       "      <th>4</th>\n",
       "      <td>Facebook</td>\n",
       "      <td>kingjose</td>\n",
       "      <td>2</td>\n",
       "      <td>349.0</td>\n",
       "      <td>62.0</td>\n",
       "      <td>37.0</td>\n",
       "      <td>149.33</td>\n",
       "      <td>81.0</td>\n",
       "      <td>448.0</td>\n",
       "    </tr>\n",
       "    <tr>\n",
       "      <th>...</th>\n",
       "      <td>...</td>\n",
       "      <td>...</td>\n",
       "      <td>...</td>\n",
       "      <td>...</td>\n",
       "      <td>...</td>\n",
       "      <td>...</td>\n",
       "      <td>...</td>\n",
       "      <td>...</td>\n",
       "      <td>...</td>\n",
       "    </tr>\n",
       "    <tr>\n",
       "      <th>2979</th>\n",
       "      <td>Instagram</td>\n",
       "      <td>smithmeghan</td>\n",
       "      <td>1</td>\n",
       "      <td>12.0</td>\n",
       "      <td>6.0</td>\n",
       "      <td>9.0</td>\n",
       "      <td>9.00</td>\n",
       "      <td>45.0</td>\n",
       "      <td>27.0</td>\n",
       "    </tr>\n",
       "    <tr>\n",
       "      <th>2980</th>\n",
       "      <td>Twitter</td>\n",
       "      <td>fnorris</td>\n",
       "      <td>1</td>\n",
       "      <td>10.0</td>\n",
       "      <td>10.0</td>\n",
       "      <td>7.0</td>\n",
       "      <td>9.00</td>\n",
       "      <td>34.0</td>\n",
       "      <td>27.0</td>\n",
       "    </tr>\n",
       "    <tr>\n",
       "      <th>2981</th>\n",
       "      <td>Instagram</td>\n",
       "      <td>erikabrown</td>\n",
       "      <td>1</td>\n",
       "      <td>12.0</td>\n",
       "      <td>9.0</td>\n",
       "      <td>5.0</td>\n",
       "      <td>8.67</td>\n",
       "      <td>32.0</td>\n",
       "      <td>26.0</td>\n",
       "    </tr>\n",
       "    <tr>\n",
       "      <th>2982</th>\n",
       "      <td>Instagram</td>\n",
       "      <td>millerheather</td>\n",
       "      <td>1</td>\n",
       "      <td>10.0</td>\n",
       "      <td>8.0</td>\n",
       "      <td>4.0</td>\n",
       "      <td>7.33</td>\n",
       "      <td>39.0</td>\n",
       "      <td>22.0</td>\n",
       "    </tr>\n",
       "    <tr>\n",
       "      <th>2983</th>\n",
       "      <td>Twitter</td>\n",
       "      <td>stevenwalton</td>\n",
       "      <td>1</td>\n",
       "      <td>16.0</td>\n",
       "      <td>1.0</td>\n",
       "      <td>1.0</td>\n",
       "      <td>6.00</td>\n",
       "      <td>33.0</td>\n",
       "      <td>18.0</td>\n",
       "    </tr>\n",
       "  </tbody>\n",
       "</table>\n",
       "<p>2984 rows × 9 columns</p>\n",
       "</div>"
      ],
      "text/plain": [
       "       platform        username  user_count  likes  comments  shares  \\\n",
       "0     Instagram   jenniferbrown           2  546.0      74.0    28.0   \n",
       "1      Facebook          qwhite           2  482.0      75.0     6.0   \n",
       "2       Twitter  johnsonmichael           3  466.0      35.0    59.0   \n",
       "3       Twitter     brewersarah           2  394.0      58.0    29.0   \n",
       "4      Facebook        kingjose           2  349.0      62.0    37.0   \n",
       "...         ...             ...         ...    ...       ...     ...   \n",
       "2979  Instagram     smithmeghan           1   12.0       6.0     9.0   \n",
       "2980    Twitter         fnorris           1   10.0      10.0     7.0   \n",
       "2981  Instagram      erikabrown           1   12.0       9.0     5.0   \n",
       "2982  Instagram   millerheather           1   10.0       8.0     4.0   \n",
       "2983    Twitter    stevenwalton           1   16.0       1.0     1.0   \n",
       "\n",
       "      avg_count  len_content  total  \n",
       "0        216.00         74.0  648.0  \n",
       "1        187.67         61.0  563.0  \n",
       "2        186.66        107.0  560.0  \n",
       "3        160.33         59.0  481.0  \n",
       "4        149.33         81.0  448.0  \n",
       "...         ...          ...    ...  \n",
       "2979       9.00         45.0   27.0  \n",
       "2980       9.00         34.0   27.0  \n",
       "2981       8.67         32.0   26.0  \n",
       "2982       7.33         39.0   22.0  \n",
       "2983       6.00         33.0   18.0  \n",
       "\n",
       "[2984 rows x 9 columns]"
      ]
     },
     "execution_count": 27,
     "metadata": {},
     "output_type": "execute_result"
    }
   ],
   "source": [
    "#user yang melakukan post >1\n",
    "sum_col = \", \".join([f'SUM(\"{col}\") AS \"{col}\"' for col in data.iloc[:, 5:]])\n",
    "\n",
    "f = query(f'''SELECT platform, username, COUNT(username) AS user_count, {sum_col} FROM data \n",
    "      GROUP BY username, platform ORDER BY total DESC''')\n",
    "f"
   ]
  },
  {
   "cell_type": "code",
   "execution_count": 28,
   "metadata": {},
   "outputs": [],
   "source": [
    "#value tertinggi setiap platform\n",
    "def high_platform(tipe:str):\n",
    "    return query(f'''SELECT d1.*\n",
    "                    FROM f d1\n",
    "                    JOIN (\n",
    "                        SELECT platform, MAX({tipe}) as max_total\n",
    "                        FROM f\n",
    "                        GROUP BY platform\n",
    "                    ) d2 ON d1.platform = d2.platform AND d1.{tipe} = d2.max_total\n",
    "                    ORDER BY {tipe} DESC''')"
   ]
  },
  {
   "cell_type": "code",
   "execution_count": 29,
   "metadata": {},
   "outputs": [],
   "source": [
    "#value tertinggi\n",
    "def high_just(tipe:str):\n",
    "    return query(f\"\"\"SELECT * FROM f \n",
    "                WHERE {tipe} = (\n",
    "                    SELECT MAX({tipe}) FROM f                    \n",
    "                ) ORDER BY total DESC\"\"\")"
   ]
  },
  {
   "cell_type": "code",
   "execution_count": 30,
   "metadata": {},
   "outputs": [
    {
     "data": {
      "text/html": [
       "<div>\n",
       "<style scoped>\n",
       "    .dataframe tbody tr th:only-of-type {\n",
       "        vertical-align: middle;\n",
       "    }\n",
       "\n",
       "    .dataframe tbody tr th {\n",
       "        vertical-align: top;\n",
       "    }\n",
       "\n",
       "    .dataframe thead th {\n",
       "        text-align: right;\n",
       "    }\n",
       "</style>\n",
       "<table border=\"1\" class=\"dataframe\">\n",
       "  <thead>\n",
       "    <tr style=\"text-align: right;\">\n",
       "      <th></th>\n",
       "      <th>platform</th>\n",
       "      <th>username</th>\n",
       "      <th>user_count</th>\n",
       "      <th>likes</th>\n",
       "      <th>comments</th>\n",
       "      <th>shares</th>\n",
       "      <th>avg_count</th>\n",
       "      <th>len_content</th>\n",
       "      <th>total</th>\n",
       "    </tr>\n",
       "  </thead>\n",
       "  <tbody>\n",
       "    <tr>\n",
       "      <th>0</th>\n",
       "      <td>Instagram</td>\n",
       "      <td>jenniferbrown</td>\n",
       "      <td>2</td>\n",
       "      <td>546.0</td>\n",
       "      <td>74.0</td>\n",
       "      <td>28.0</td>\n",
       "      <td>216.00</td>\n",
       "      <td>74.0</td>\n",
       "      <td>648.0</td>\n",
       "    </tr>\n",
       "    <tr>\n",
       "      <th>1</th>\n",
       "      <td>Facebook</td>\n",
       "      <td>qwhite</td>\n",
       "      <td>2</td>\n",
       "      <td>482.0</td>\n",
       "      <td>75.0</td>\n",
       "      <td>6.0</td>\n",
       "      <td>187.67</td>\n",
       "      <td>61.0</td>\n",
       "      <td>563.0</td>\n",
       "    </tr>\n",
       "    <tr>\n",
       "      <th>2</th>\n",
       "      <td>Twitter</td>\n",
       "      <td>johnsonmichael</td>\n",
       "      <td>3</td>\n",
       "      <td>466.0</td>\n",
       "      <td>35.0</td>\n",
       "      <td>59.0</td>\n",
       "      <td>186.66</td>\n",
       "      <td>107.0</td>\n",
       "      <td>560.0</td>\n",
       "    </tr>\n",
       "  </tbody>\n",
       "</table>\n",
       "</div>"
      ],
      "text/plain": [
       "    platform        username  user_count  likes  comments  shares  avg_count  \\\n",
       "0  Instagram   jenniferbrown           2  546.0      74.0    28.0     216.00   \n",
       "1   Facebook          qwhite           2  482.0      75.0     6.0     187.67   \n",
       "2    Twitter  johnsonmichael           3  466.0      35.0    59.0     186.66   \n",
       "\n",
       "   len_content  total  \n",
       "0         74.0  648.0  \n",
       "1         61.0  563.0  \n",
       "2        107.0  560.0  "
      ]
     },
     "execution_count": 30,
     "metadata": {},
     "output_type": "execute_result"
    }
   ],
   "source": [
    "#total tertinggi\n",
    "h_total = high_platform('total')\n",
    "h_total"
   ]
  },
  {
   "cell_type": "code",
   "execution_count": 31,
   "metadata": {},
   "outputs": [
    {
     "data": {
      "text/html": [
       "<div>\n",
       "<style scoped>\n",
       "    .dataframe tbody tr th:only-of-type {\n",
       "        vertical-align: middle;\n",
       "    }\n",
       "\n",
       "    .dataframe tbody tr th {\n",
       "        vertical-align: top;\n",
       "    }\n",
       "\n",
       "    .dataframe thead th {\n",
       "        text-align: right;\n",
       "    }\n",
       "</style>\n",
       "<table border=\"1\" class=\"dataframe\">\n",
       "  <thead>\n",
       "    <tr style=\"text-align: right;\">\n",
       "      <th></th>\n",
       "      <th>platform</th>\n",
       "      <th>username</th>\n",
       "      <th>user_count</th>\n",
       "      <th>likes</th>\n",
       "      <th>comments</th>\n",
       "      <th>shares</th>\n",
       "      <th>avg_count</th>\n",
       "      <th>len_content</th>\n",
       "      <th>total</th>\n",
       "    </tr>\n",
       "  </thead>\n",
       "  <tbody>\n",
       "    <tr>\n",
       "      <th>0</th>\n",
       "      <td>Instagram</td>\n",
       "      <td>jenniferbrown</td>\n",
       "      <td>2</td>\n",
       "      <td>546.0</td>\n",
       "      <td>74.0</td>\n",
       "      <td>28.0</td>\n",
       "      <td>216.0</td>\n",
       "      <td>74.0</td>\n",
       "      <td>648.0</td>\n",
       "    </tr>\n",
       "  </tbody>\n",
       "</table>\n",
       "</div>"
      ],
      "text/plain": [
       "    platform       username  user_count  likes  comments  shares  avg_count  \\\n",
       "0  Instagram  jenniferbrown           2  546.0      74.0    28.0      216.0   \n",
       "\n",
       "   len_content  total  \n",
       "0         74.0  648.0  "
      ]
     },
     "execution_count": 31,
     "metadata": {},
     "output_type": "execute_result"
    }
   ],
   "source": [
    "#likes tertinggi\n",
    "h_likes = high_just('likes')\n",
    "h_likes"
   ]
  },
  {
   "cell_type": "code",
   "execution_count": 32,
   "metadata": {},
   "outputs": [
    {
     "data": {
      "text/html": [
       "<div>\n",
       "<style scoped>\n",
       "    .dataframe tbody tr th:only-of-type {\n",
       "        vertical-align: middle;\n",
       "    }\n",
       "\n",
       "    .dataframe tbody tr th {\n",
       "        vertical-align: top;\n",
       "    }\n",
       "\n",
       "    .dataframe thead th {\n",
       "        text-align: right;\n",
       "    }\n",
       "</style>\n",
       "<table border=\"1\" class=\"dataframe\">\n",
       "  <thead>\n",
       "    <tr style=\"text-align: right;\">\n",
       "      <th></th>\n",
       "      <th>platform</th>\n",
       "      <th>username</th>\n",
       "      <th>user_count</th>\n",
       "      <th>likes</th>\n",
       "      <th>comments</th>\n",
       "      <th>shares</th>\n",
       "      <th>avg_count</th>\n",
       "      <th>len_content</th>\n",
       "      <th>total</th>\n",
       "    </tr>\n",
       "  </thead>\n",
       "  <tbody>\n",
       "    <tr>\n",
       "      <th>0</th>\n",
       "      <td>Twitter</td>\n",
       "      <td>williamsdaniel</td>\n",
       "      <td>2</td>\n",
       "      <td>294.0</td>\n",
       "      <td>96.0</td>\n",
       "      <td>41.0</td>\n",
       "      <td>143.67</td>\n",
       "      <td>67.0</td>\n",
       "      <td>431.0</td>\n",
       "    </tr>\n",
       "  </tbody>\n",
       "</table>\n",
       "</div>"
      ],
      "text/plain": [
       "  platform        username  user_count  likes  comments  shares  avg_count  \\\n",
       "0  Twitter  williamsdaniel           2  294.0      96.0    41.0     143.67   \n",
       "\n",
       "   len_content  total  \n",
       "0         67.0  431.0  "
      ]
     },
     "execution_count": 32,
     "metadata": {},
     "output_type": "execute_result"
    }
   ],
   "source": [
    "#comments tertinggi\n",
    "h_comments = high_just('comments')\n",
    "h_comments"
   ]
  },
  {
   "cell_type": "code",
   "execution_count": 33,
   "metadata": {},
   "outputs": [
    {
     "data": {
      "text/html": [
       "<div>\n",
       "<style scoped>\n",
       "    .dataframe tbody tr th:only-of-type {\n",
       "        vertical-align: middle;\n",
       "    }\n",
       "\n",
       "    .dataframe tbody tr th {\n",
       "        vertical-align: top;\n",
       "    }\n",
       "\n",
       "    .dataframe thead th {\n",
       "        text-align: right;\n",
       "    }\n",
       "</style>\n",
       "<table border=\"1\" class=\"dataframe\">\n",
       "  <thead>\n",
       "    <tr style=\"text-align: right;\">\n",
       "      <th></th>\n",
       "      <th>platform</th>\n",
       "      <th>username</th>\n",
       "      <th>user_count</th>\n",
       "      <th>likes</th>\n",
       "      <th>comments</th>\n",
       "      <th>shares</th>\n",
       "      <th>avg_count</th>\n",
       "      <th>len_content</th>\n",
       "      <th>total</th>\n",
       "    </tr>\n",
       "  </thead>\n",
       "  <tbody>\n",
       "    <tr>\n",
       "      <th>0</th>\n",
       "      <td>Twitter</td>\n",
       "      <td>johnsonmichael</td>\n",
       "      <td>3</td>\n",
       "      <td>466.0</td>\n",
       "      <td>35.0</td>\n",
       "      <td>59.0</td>\n",
       "      <td>186.66</td>\n",
       "      <td>107.0</td>\n",
       "      <td>560.0</td>\n",
       "    </tr>\n",
       "  </tbody>\n",
       "</table>\n",
       "</div>"
      ],
      "text/plain": [
       "  platform        username  user_count  likes  comments  shares  avg_count  \\\n",
       "0  Twitter  johnsonmichael           3  466.0      35.0    59.0     186.66   \n",
       "\n",
       "   len_content  total  \n",
       "0        107.0  560.0  "
      ]
     },
     "execution_count": 33,
     "metadata": {},
     "output_type": "execute_result"
    }
   ],
   "source": [
    "#shares tertinggi\n",
    "h_shares = high_just('shares')\n",
    "h_shares"
   ]
  },
  {
   "cell_type": "code",
   "execution_count": 34,
   "metadata": {},
   "outputs": [
    {
     "data": {
      "text/html": [
       "<div>\n",
       "<style scoped>\n",
       "    .dataframe tbody tr th:only-of-type {\n",
       "        vertical-align: middle;\n",
       "    }\n",
       "\n",
       "    .dataframe tbody tr th {\n",
       "        vertical-align: top;\n",
       "    }\n",
       "\n",
       "    .dataframe thead th {\n",
       "        text-align: right;\n",
       "    }\n",
       "</style>\n",
       "<table border=\"1\" class=\"dataframe\">\n",
       "  <thead>\n",
       "    <tr style=\"text-align: right;\">\n",
       "      <th></th>\n",
       "      <th>platform</th>\n",
       "      <th>username</th>\n",
       "      <th>user_count</th>\n",
       "      <th>likes</th>\n",
       "      <th>comments</th>\n",
       "      <th>shares</th>\n",
       "      <th>avg_count</th>\n",
       "      <th>len_content</th>\n",
       "      <th>total</th>\n",
       "    </tr>\n",
       "  </thead>\n",
       "  <tbody>\n",
       "    <tr>\n",
       "      <th>0</th>\n",
       "      <td>Instagram</td>\n",
       "      <td>jenniferbrown</td>\n",
       "      <td>2</td>\n",
       "      <td>546.0</td>\n",
       "      <td>74.0</td>\n",
       "      <td>28.0</td>\n",
       "      <td>216.00</td>\n",
       "      <td>74.0</td>\n",
       "      <td>648.0</td>\n",
       "    </tr>\n",
       "    <tr>\n",
       "      <th>1</th>\n",
       "      <td>Twitter</td>\n",
       "      <td>johnsonmichael</td>\n",
       "      <td>3</td>\n",
       "      <td>466.0</td>\n",
       "      <td>35.0</td>\n",
       "      <td>59.0</td>\n",
       "      <td>186.66</td>\n",
       "      <td>107.0</td>\n",
       "      <td>560.0</td>\n",
       "    </tr>\n",
       "  </tbody>\n",
       "</table>\n",
       "</div>"
      ],
      "text/plain": [
       "    platform        username  user_count  likes  comments  shares  avg_count  \\\n",
       "0  Instagram   jenniferbrown           2  546.0      74.0    28.0     216.00   \n",
       "1    Twitter  johnsonmichael           3  466.0      35.0    59.0     186.66   \n",
       "\n",
       "   len_content  total  \n",
       "0         74.0  648.0  \n",
       "1        107.0  560.0  "
      ]
     },
     "execution_count": 34,
     "metadata": {},
     "output_type": "execute_result"
    }
   ],
   "source": [
    "#user yang memiliki total aktivitas tertinggi dengan likes/comments/share tertinggi\n",
    "query('''SELECT h_total.* FROM h_total\n",
    "        JOIN h_likes ON h_total.total = h_likes.total AND h_total.platform = h_likes.platform AND h_total.username = h_likes.username\n",
    "        UNION\n",
    "        SELECT h_total.* FROM h_total\n",
    "        JOIN h_comments ON h_total.total = h_comments.total AND h_total.platform = h_comments.platform AND h_total.username = h_comments.username\n",
    "        UNION\n",
    "        SELECT h_total.* FROM h_total\n",
    "        JOIN h_shares ON h_total.total = h_shares.total AND h_total.platform = h_shares.platform AND h_total.username = h_shares.username\n",
    "        ORDER BY h_total.total DESC''')"
   ]
  },
  {
   "cell_type": "code",
   "execution_count": null,
   "metadata": {},
   "outputs": [],
   "source": []
  }
 ],
 "metadata": {
  "kernelspec": {
   "display_name": "py38",
   "language": "python",
   "name": "python3"
  },
  "language_info": {
   "codemirror_mode": {
    "name": "ipython",
    "version": 3
   },
   "file_extension": ".py",
   "mimetype": "text/x-python",
   "name": "python",
   "nbconvert_exporter": "python",
   "pygments_lexer": "ipython3",
   "version": "3.12.3"
  },
  "orig_nbformat": 4
 },
 "nbformat": 4,
 "nbformat_minor": 2
}
